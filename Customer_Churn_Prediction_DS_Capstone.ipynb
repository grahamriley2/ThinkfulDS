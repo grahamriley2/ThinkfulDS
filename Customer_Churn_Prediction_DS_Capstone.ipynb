{
  "nbformat": 4,
  "nbformat_minor": 0,
  "metadata": {
    "colab": {
      "name": "Customer_Churn_Prediction_DS_Capstone.ipynb",
      "provenance": [],
      "collapsed_sections": [],
      "include_colab_link": true
    },
    "kernelspec": {
      "display_name": "Python 3",
      "language": "python",
      "name": "python3"
    },
    "language_info": {
      "codemirror_mode": {
        "name": "ipython",
        "version": 3
      },
      "file_extension": ".py",
      "mimetype": "text/x-python",
      "name": "python",
      "nbconvert_exporter": "python",
      "pygments_lexer": "ipython3",
      "version": "3.7.6"
    }
  },
  "cells": [
    {
      "cell_type": "markdown",
      "metadata": {
        "id": "view-in-github",
        "colab_type": "text"
      },
      "source": [
        "<a href=\"https://colab.research.google.com/github/grahamriley2/ThinkfulDS/blob/main/Customer_Churn_Prediction_DS_Capstone.ipynb\" target=\"_parent\"><img src=\"https://colab.research.google.com/assets/colab-badge.svg\" alt=\"Open In Colab\"/></a>"
      ]
    },
    {
      "cell_type": "markdown",
      "metadata": {
        "id": "QIf60rnSKBLA"
      },
      "source": [
        "# Data Exploration & Visualization"
      ]
    },
    {
      "cell_type": "code",
      "metadata": {
        "id": "_k1vLW7zJrBc"
      },
      "source": [
        "import pandas as pd\n",
        "import numpy as np"
      ],
      "execution_count": null,
      "outputs": []
    },
    {
      "cell_type": "code",
      "metadata": {
        "id": "Bz2RBj95JvDT",
        "colab": {
          "base_uri": "https://localhost:8080/",
          "height": 301
        },
        "outputId": "dd7dac38-a399-426d-f055-1deabf68d427"
      },
      "source": [
        "df = pd.read_csv('https://raw.githubusercontent.com/grahamriley2/customer_churn/main/WA_Fn-UseC_-Telco-Customer-Churn.csv')\n",
        "df.head()"
      ],
      "execution_count": null,
      "outputs": [
        {
          "output_type": "execute_result",
          "data": {
            "text/html": [
              "<div>\n",
              "<style scoped>\n",
              "    .dataframe tbody tr th:only-of-type {\n",
              "        vertical-align: middle;\n",
              "    }\n",
              "\n",
              "    .dataframe tbody tr th {\n",
              "        vertical-align: top;\n",
              "    }\n",
              "\n",
              "    .dataframe thead th {\n",
              "        text-align: right;\n",
              "    }\n",
              "</style>\n",
              "<table border=\"1\" class=\"dataframe\">\n",
              "  <thead>\n",
              "    <tr style=\"text-align: right;\">\n",
              "      <th></th>\n",
              "      <th>customerID</th>\n",
              "      <th>gender</th>\n",
              "      <th>SeniorCitizen</th>\n",
              "      <th>Partner</th>\n",
              "      <th>Dependents</th>\n",
              "      <th>tenure</th>\n",
              "      <th>PhoneService</th>\n",
              "      <th>MultipleLines</th>\n",
              "      <th>InternetService</th>\n",
              "      <th>OnlineSecurity</th>\n",
              "      <th>...</th>\n",
              "      <th>DeviceProtection</th>\n",
              "      <th>TechSupport</th>\n",
              "      <th>StreamingTV</th>\n",
              "      <th>StreamingMovies</th>\n",
              "      <th>Contract</th>\n",
              "      <th>PaperlessBilling</th>\n",
              "      <th>PaymentMethod</th>\n",
              "      <th>MonthlyCharges</th>\n",
              "      <th>TotalCharges</th>\n",
              "      <th>Churn</th>\n",
              "    </tr>\n",
              "  </thead>\n",
              "  <tbody>\n",
              "    <tr>\n",
              "      <th>0</th>\n",
              "      <td>7590-VHVEG</td>\n",
              "      <td>Female</td>\n",
              "      <td>0</td>\n",
              "      <td>Yes</td>\n",
              "      <td>No</td>\n",
              "      <td>1</td>\n",
              "      <td>No</td>\n",
              "      <td>No phone service</td>\n",
              "      <td>DSL</td>\n",
              "      <td>No</td>\n",
              "      <td>...</td>\n",
              "      <td>No</td>\n",
              "      <td>No</td>\n",
              "      <td>No</td>\n",
              "      <td>No</td>\n",
              "      <td>Month-to-month</td>\n",
              "      <td>Yes</td>\n",
              "      <td>Electronic check</td>\n",
              "      <td>29.85</td>\n",
              "      <td>29.85</td>\n",
              "      <td>No</td>\n",
              "    </tr>\n",
              "    <tr>\n",
              "      <th>1</th>\n",
              "      <td>5575-GNVDE</td>\n",
              "      <td>Male</td>\n",
              "      <td>0</td>\n",
              "      <td>No</td>\n",
              "      <td>No</td>\n",
              "      <td>34</td>\n",
              "      <td>Yes</td>\n",
              "      <td>No</td>\n",
              "      <td>DSL</td>\n",
              "      <td>Yes</td>\n",
              "      <td>...</td>\n",
              "      <td>Yes</td>\n",
              "      <td>No</td>\n",
              "      <td>No</td>\n",
              "      <td>No</td>\n",
              "      <td>One year</td>\n",
              "      <td>No</td>\n",
              "      <td>Mailed check</td>\n",
              "      <td>56.95</td>\n",
              "      <td>1889.5</td>\n",
              "      <td>No</td>\n",
              "    </tr>\n",
              "    <tr>\n",
              "      <th>2</th>\n",
              "      <td>3668-QPYBK</td>\n",
              "      <td>Male</td>\n",
              "      <td>0</td>\n",
              "      <td>No</td>\n",
              "      <td>No</td>\n",
              "      <td>2</td>\n",
              "      <td>Yes</td>\n",
              "      <td>No</td>\n",
              "      <td>DSL</td>\n",
              "      <td>Yes</td>\n",
              "      <td>...</td>\n",
              "      <td>No</td>\n",
              "      <td>No</td>\n",
              "      <td>No</td>\n",
              "      <td>No</td>\n",
              "      <td>Month-to-month</td>\n",
              "      <td>Yes</td>\n",
              "      <td>Mailed check</td>\n",
              "      <td>53.85</td>\n",
              "      <td>108.15</td>\n",
              "      <td>Yes</td>\n",
              "    </tr>\n",
              "    <tr>\n",
              "      <th>3</th>\n",
              "      <td>7795-CFOCW</td>\n",
              "      <td>Male</td>\n",
              "      <td>0</td>\n",
              "      <td>No</td>\n",
              "      <td>No</td>\n",
              "      <td>45</td>\n",
              "      <td>No</td>\n",
              "      <td>No phone service</td>\n",
              "      <td>DSL</td>\n",
              "      <td>Yes</td>\n",
              "      <td>...</td>\n",
              "      <td>Yes</td>\n",
              "      <td>Yes</td>\n",
              "      <td>No</td>\n",
              "      <td>No</td>\n",
              "      <td>One year</td>\n",
              "      <td>No</td>\n",
              "      <td>Bank transfer (automatic)</td>\n",
              "      <td>42.30</td>\n",
              "      <td>1840.75</td>\n",
              "      <td>No</td>\n",
              "    </tr>\n",
              "    <tr>\n",
              "      <th>4</th>\n",
              "      <td>9237-HQITU</td>\n",
              "      <td>Female</td>\n",
              "      <td>0</td>\n",
              "      <td>No</td>\n",
              "      <td>No</td>\n",
              "      <td>2</td>\n",
              "      <td>Yes</td>\n",
              "      <td>No</td>\n",
              "      <td>Fiber optic</td>\n",
              "      <td>No</td>\n",
              "      <td>...</td>\n",
              "      <td>No</td>\n",
              "      <td>No</td>\n",
              "      <td>No</td>\n",
              "      <td>No</td>\n",
              "      <td>Month-to-month</td>\n",
              "      <td>Yes</td>\n",
              "      <td>Electronic check</td>\n",
              "      <td>70.70</td>\n",
              "      <td>151.65</td>\n",
              "      <td>Yes</td>\n",
              "    </tr>\n",
              "  </tbody>\n",
              "</table>\n",
              "<p>5 rows × 21 columns</p>\n",
              "</div>"
            ],
            "text/plain": [
              "   customerID  gender  SeniorCitizen Partner Dependents  tenure PhoneService  \\\n",
              "0  7590-VHVEG  Female              0     Yes         No       1           No   \n",
              "1  5575-GNVDE    Male              0      No         No      34          Yes   \n",
              "2  3668-QPYBK    Male              0      No         No       2          Yes   \n",
              "3  7795-CFOCW    Male              0      No         No      45           No   \n",
              "4  9237-HQITU  Female              0      No         No       2          Yes   \n",
              "\n",
              "      MultipleLines InternetService OnlineSecurity  ... DeviceProtection  \\\n",
              "0  No phone service             DSL             No  ...               No   \n",
              "1                No             DSL            Yes  ...              Yes   \n",
              "2                No             DSL            Yes  ...               No   \n",
              "3  No phone service             DSL            Yes  ...              Yes   \n",
              "4                No     Fiber optic             No  ...               No   \n",
              "\n",
              "  TechSupport StreamingTV StreamingMovies        Contract PaperlessBilling  \\\n",
              "0          No          No              No  Month-to-month              Yes   \n",
              "1          No          No              No        One year               No   \n",
              "2          No          No              No  Month-to-month              Yes   \n",
              "3         Yes          No              No        One year               No   \n",
              "4          No          No              No  Month-to-month              Yes   \n",
              "\n",
              "               PaymentMethod MonthlyCharges  TotalCharges Churn  \n",
              "0           Electronic check          29.85         29.85    No  \n",
              "1               Mailed check          56.95        1889.5    No  \n",
              "2               Mailed check          53.85        108.15   Yes  \n",
              "3  Bank transfer (automatic)          42.30       1840.75    No  \n",
              "4           Electronic check          70.70        151.65   Yes  \n",
              "\n",
              "[5 rows x 21 columns]"
            ]
          },
          "metadata": {
            "tags": []
          },
          "execution_count": 2
        }
      ]
    },
    {
      "cell_type": "code",
      "metadata": {
        "id": "d0GR7hY1KM28",
        "colab": {
          "base_uri": "https://localhost:8080/",
          "height": 514
        },
        "outputId": "9b1705de-ace5-471b-a1a2-b2a15a4065cf"
      },
      "source": [
        "df.info()"
      ],
      "execution_count": null,
      "outputs": [
        {
          "output_type": "stream",
          "text": [
            "<class 'pandas.core.frame.DataFrame'>\n",
            "RangeIndex: 7043 entries, 0 to 7042\n",
            "Data columns (total 21 columns):\n",
            " #   Column            Non-Null Count  Dtype  \n",
            "---  ------            --------------  -----  \n",
            " 0   customerID        7043 non-null   object \n",
            " 1   gender            7043 non-null   object \n",
            " 2   SeniorCitizen     7043 non-null   int64  \n",
            " 3   Partner           7043 non-null   object \n",
            " 4   Dependents        7043 non-null   object \n",
            " 5   tenure            7043 non-null   int64  \n",
            " 6   PhoneService      7043 non-null   object \n",
            " 7   MultipleLines     7043 non-null   object \n",
            " 8   InternetService   7043 non-null   object \n",
            " 9   OnlineSecurity    7043 non-null   object \n",
            " 10  OnlineBackup      7043 non-null   object \n",
            " 11  DeviceProtection  7043 non-null   object \n",
            " 12  TechSupport       7043 non-null   object \n",
            " 13  StreamingTV       7043 non-null   object \n",
            " 14  StreamingMovies   7043 non-null   object \n",
            " 15  Contract          7043 non-null   object \n",
            " 16  PaperlessBilling  7043 non-null   object \n",
            " 17  PaymentMethod     7043 non-null   object \n",
            " 18  MonthlyCharges    7043 non-null   float64\n",
            " 19  TotalCharges      7043 non-null   object \n",
            " 20  Churn             7043 non-null   object \n",
            "dtypes: float64(1), int64(2), object(18)\n",
            "memory usage: 1.1+ MB\n"
          ],
          "name": "stdout"
        }
      ]
    },
    {
      "cell_type": "code",
      "metadata": {
        "id": "CQYQbjvcKRam",
        "colab": {
          "base_uri": "https://localhost:8080/",
          "height": 287
        },
        "outputId": "1eea5bc4-47b9-4e02-da9d-4e2f6a100895"
      },
      "source": [
        "df.describe()"
      ],
      "execution_count": null,
      "outputs": [
        {
          "output_type": "execute_result",
          "data": {
            "text/html": [
              "<div>\n",
              "<style scoped>\n",
              "    .dataframe tbody tr th:only-of-type {\n",
              "        vertical-align: middle;\n",
              "    }\n",
              "\n",
              "    .dataframe tbody tr th {\n",
              "        vertical-align: top;\n",
              "    }\n",
              "\n",
              "    .dataframe thead th {\n",
              "        text-align: right;\n",
              "    }\n",
              "</style>\n",
              "<table border=\"1\" class=\"dataframe\">\n",
              "  <thead>\n",
              "    <tr style=\"text-align: right;\">\n",
              "      <th></th>\n",
              "      <th>SeniorCitizen</th>\n",
              "      <th>tenure</th>\n",
              "      <th>MonthlyCharges</th>\n",
              "    </tr>\n",
              "  </thead>\n",
              "  <tbody>\n",
              "    <tr>\n",
              "      <th>count</th>\n",
              "      <td>7043.000000</td>\n",
              "      <td>7043.000000</td>\n",
              "      <td>7043.000000</td>\n",
              "    </tr>\n",
              "    <tr>\n",
              "      <th>mean</th>\n",
              "      <td>0.162147</td>\n",
              "      <td>32.371149</td>\n",
              "      <td>64.761692</td>\n",
              "    </tr>\n",
              "    <tr>\n",
              "      <th>std</th>\n",
              "      <td>0.368612</td>\n",
              "      <td>24.559481</td>\n",
              "      <td>30.090047</td>\n",
              "    </tr>\n",
              "    <tr>\n",
              "      <th>min</th>\n",
              "      <td>0.000000</td>\n",
              "      <td>0.000000</td>\n",
              "      <td>18.250000</td>\n",
              "    </tr>\n",
              "    <tr>\n",
              "      <th>25%</th>\n",
              "      <td>0.000000</td>\n",
              "      <td>9.000000</td>\n",
              "      <td>35.500000</td>\n",
              "    </tr>\n",
              "    <tr>\n",
              "      <th>50%</th>\n",
              "      <td>0.000000</td>\n",
              "      <td>29.000000</td>\n",
              "      <td>70.350000</td>\n",
              "    </tr>\n",
              "    <tr>\n",
              "      <th>75%</th>\n",
              "      <td>0.000000</td>\n",
              "      <td>55.000000</td>\n",
              "      <td>89.850000</td>\n",
              "    </tr>\n",
              "    <tr>\n",
              "      <th>max</th>\n",
              "      <td>1.000000</td>\n",
              "      <td>72.000000</td>\n",
              "      <td>118.750000</td>\n",
              "    </tr>\n",
              "  </tbody>\n",
              "</table>\n",
              "</div>"
            ],
            "text/plain": [
              "       SeniorCitizen       tenure  MonthlyCharges\n",
              "count    7043.000000  7043.000000     7043.000000\n",
              "mean        0.162147    32.371149       64.761692\n",
              "std         0.368612    24.559481       30.090047\n",
              "min         0.000000     0.000000       18.250000\n",
              "25%         0.000000     9.000000       35.500000\n",
              "50%         0.000000    29.000000       70.350000\n",
              "75%         0.000000    55.000000       89.850000\n",
              "max         1.000000    72.000000      118.750000"
            ]
          },
          "metadata": {
            "tags": []
          },
          "execution_count": 4
        }
      ]
    },
    {
      "cell_type": "code",
      "metadata": {
        "id": "tBHMtstKKW5Y",
        "colab": {
          "base_uri": "https://localhost:8080/",
          "height": 407
        },
        "outputId": "0d1d6477-e673-42ef-e269-71e1f215bd0a"
      },
      "source": [
        "#check for nulls\n",
        "df.isna().sum()"
      ],
      "execution_count": null,
      "outputs": [
        {
          "output_type": "execute_result",
          "data": {
            "text/plain": [
              "customerID          0\n",
              "gender              0\n",
              "SeniorCitizen       0\n",
              "Partner             0\n",
              "Dependents          0\n",
              "tenure              0\n",
              "PhoneService        0\n",
              "MultipleLines       0\n",
              "InternetService     0\n",
              "OnlineSecurity      0\n",
              "OnlineBackup        0\n",
              "DeviceProtection    0\n",
              "TechSupport         0\n",
              "StreamingTV         0\n",
              "StreamingMovies     0\n",
              "Contract            0\n",
              "PaperlessBilling    0\n",
              "PaymentMethod       0\n",
              "MonthlyCharges      0\n",
              "TotalCharges        0\n",
              "Churn               0\n",
              "dtype: int64"
            ]
          },
          "metadata": {
            "tags": []
          },
          "execution_count": 5
        }
      ]
    },
    {
      "cell_type": "markdown",
      "metadata": {
        "id": "oplpJJrwKnry"
      },
      "source": [
        "The data doesn't appear to have any null values, but let's make sure there aren't any values that are just a blank space."
      ]
    },
    {
      "cell_type": "code",
      "metadata": {
        "id": "wydtqgX0IVZd",
        "colab": {
          "base_uri": "https://localhost:8080/",
          "height": 407
        },
        "outputId": "fde0b8da-4895-4a26-c6d3-aed3368829a2"
      },
      "source": [
        "#replace blank space with nan\n",
        "df = df.replace(' ',np.nan)\n",
        "#check for nulls again\n",
        "df.isna().sum()"
      ],
      "execution_count": null,
      "outputs": [
        {
          "output_type": "execute_result",
          "data": {
            "text/plain": [
              "customerID           0\n",
              "gender               0\n",
              "SeniorCitizen        0\n",
              "Partner              0\n",
              "Dependents           0\n",
              "tenure               0\n",
              "PhoneService         0\n",
              "MultipleLines        0\n",
              "InternetService      0\n",
              "OnlineSecurity       0\n",
              "OnlineBackup         0\n",
              "DeviceProtection     0\n",
              "TechSupport          0\n",
              "StreamingTV          0\n",
              "StreamingMovies      0\n",
              "Contract             0\n",
              "PaperlessBilling     0\n",
              "PaymentMethod        0\n",
              "MonthlyCharges       0\n",
              "TotalCharges        11\n",
              "Churn                0\n",
              "dtype: int64"
            ]
          },
          "metadata": {
            "tags": []
          },
          "execution_count": 7
        }
      ]
    },
    {
      "cell_type": "markdown",
      "metadata": {
        "id": "QW0lNECJMB0g"
      },
      "source": [
        "It turns out there were actually 11 blank spaces in the Total Charges column. Setting these equal to zero wouldn't make much sense, since no one pays zero dollars per month. I could also use some other method to find an appropriate value, such as the using the mean or median, but since 11 entries is so few I will simply drop these rows."
      ]
    },
    {
      "cell_type": "code",
      "metadata": {
        "id": "UekCMhzYMf0L",
        "colab": {
          "base_uri": "https://localhost:8080/",
          "height": 34
        },
        "outputId": "0b263507-9a76-4b84-b4a6-8909712c1a0b"
      },
      "source": [
        "#drop nulls\n",
        "df = df.dropna()\n",
        "#verify that only 11 rows were dropped\n",
        "df.shape"
      ],
      "execution_count": null,
      "outputs": [
        {
          "output_type": "execute_result",
          "data": {
            "text/plain": [
              "(7032, 21)"
            ]
          },
          "metadata": {
            "tags": []
          },
          "execution_count": 8
        }
      ]
    },
    {
      "cell_type": "markdown",
      "metadata": {
        "id": "TYinnl61Lvoh"
      },
      "source": [
        "The dataset looks good, but there is one oddity I observed. The TotalCharges Feature is of type \"object\" despite appearing to be numerical. I'll convert that to type \"float64.\""
      ]
    },
    {
      "cell_type": "code",
      "metadata": {
        "id": "X-3fxgwnKd9L",
        "colab": {
          "base_uri": "https://localhost:8080/",
          "height": 34
        },
        "outputId": "82133401-67a3-4e08-86a0-b016cb3026bf"
      },
      "source": [
        "#convert Total Charges to numeric\n",
        "df['TotalCharges']= pd.to_numeric(df['TotalCharges'], errors = 'coerce')\n",
        "#confirm new datatype\n",
        "df['TotalCharges'].dtype"
      ],
      "execution_count": null,
      "outputs": [
        {
          "output_type": "execute_result",
          "data": {
            "text/plain": [
              "dtype('float64')"
            ]
          },
          "metadata": {
            "tags": []
          },
          "execution_count": 9
        }
      ]
    },
    {
      "cell_type": "markdown",
      "metadata": {
        "id": "UKWwBt5IQWIq"
      },
      "source": [
        "Now the TotalCharges Feature comes through as type \"float64\" as expected.\n",
        "\n",
        "I'm also going to convert the SeniorCitizen Feature to an \"object\" because it is a Boolean Classifier, and I don't want it to get mixed in with the Features that are actually continuous such as Tenure, MonthlyCharges and TotalCharges.\n",
        "\n",
        "Later I will apply onehotencoding to convert all of these categorical features into boolean arrays."
      ]
    },
    {
      "cell_type": "code",
      "metadata": {
        "id": "kHs8FYAolCfc",
        "colab": {
          "base_uri": "https://localhost:8080/",
          "height": 34
        },
        "outputId": "70f649f3-8cac-4e49-d0da-4866ece34815"
      },
      "source": [
        "#convert Senior Citizen to string\n",
        "df['SeniorCitizen'] = df['SeniorCitizen'].astype(str)\n",
        "#confirm new datatype\n",
        "df['SeniorCitizen'].dtype"
      ],
      "execution_count": null,
      "outputs": [
        {
          "output_type": "execute_result",
          "data": {
            "text/plain": [
              "dtype('O')"
            ]
          },
          "metadata": {
            "tags": []
          },
          "execution_count": 10
        }
      ]
    },
    {
      "cell_type": "markdown",
      "metadata": {
        "id": "rJlpgFbJRCrA"
      },
      "source": [
        "**Categorical Feature Exploration**\n",
        "\n",
        "First I explore the demographic characteristics of the customer base."
      ]
    },
    {
      "cell_type": "code",
      "metadata": {
        "id": "-08CDnZmda0e",
        "colab": {
          "base_uri": "https://localhost:8080/",
          "height": 123
        },
        "outputId": "9f8f46f9-3345-4ad5-a227-bfb49a9b0e5f"
      },
      "source": [
        "#Create list of categorical column names\n",
        "object_cols = df.select_dtypes('object').columns\n",
        "object_cols"
      ],
      "execution_count": null,
      "outputs": [
        {
          "output_type": "execute_result",
          "data": {
            "text/plain": [
              "Index(['customerID', 'gender', 'SeniorCitizen', 'Partner', 'Dependents',\n",
              "       'PhoneService', 'MultipleLines', 'InternetService', 'OnlineSecurity',\n",
              "       'OnlineBackup', 'DeviceProtection', 'TechSupport', 'StreamingTV',\n",
              "       'StreamingMovies', 'Contract', 'PaperlessBilling', 'PaymentMethod',\n",
              "       'Churn'],\n",
              "      dtype='object')"
            ]
          },
          "metadata": {
            "tags": []
          },
          "execution_count": 11
        }
      ]
    },
    {
      "cell_type": "code",
      "metadata": {
        "id": "5HKCVNlgYyOP"
      },
      "source": [
        "#Create a dictionary with the classes and value counts for each class\n",
        "dict_counts = {}\n",
        "for col in object_cols:\n",
        "  classes = (col + '_classes')\n",
        "  counts = (col + '_counts')\n",
        "  dict_counts[classes] = df[col].value_counts().index\n",
        "  dict_counts[counts] = df[col].value_counts().values"
      ],
      "execution_count": null,
      "outputs": []
    },
    {
      "cell_type": "code",
      "metadata": {
        "id": "1XmSqjr6QTTX",
        "colab": {
          "base_uri": "https://localhost:8080/",
          "height": 392
        },
        "outputId": "4bf2c7d8-c658-4278-83ab-1df847e48092"
      },
      "source": [
        "#Create a pie plot that shows the percentage of customers that belong to each class\n",
        "from matplotlib import pyplot as plt\n",
        "plt.style.use('ggplot')\n",
        "plt.rcParams['figure.figsize'] = [20,10]\n",
        "\n",
        "plt.subplot(1,4,1)\n",
        "plt.title('Gender Distribution')\n",
        "plt.pie(dict_counts['gender_counts'],autopct='%1.1f%%',labels=dict_counts['gender_classes'])\n",
        "\n",
        "plt.subplot(1,4,2)\n",
        "plt.title('Senior Citizen Distribution')\n",
        "plt.pie(dict_counts['SeniorCitizen_counts'],autopct='%1.1f%%',labels=dict_counts['SeniorCitizen_classes'])\n",
        "\n",
        "plt.subplot(1,4,3)\n",
        "plt.title('Partner Distribution')\n",
        "plt.pie(dict_counts['Partner_counts'],autopct='%1.1f%%',labels=dict_counts['Partner_classes'])\n",
        "\n",
        "plt.subplot(1,4,4)\n",
        "plt.title('Dependents Distribution')\n",
        "plt.pie(dict_counts['Dependents_counts'],autopct='%1.1f%%',labels=dict_counts['Dependents_classes'])\n",
        "\n",
        "plt.show"
      ],
      "execution_count": null,
      "outputs": [
        {
          "output_type": "execute_result",
          "data": {
            "text/plain": [
              "<function matplotlib.pyplot.show(*args, **kw)>"
            ]
          },
          "metadata": {
            "tags": []
          },
          "execution_count": 13
        },
        {
          "output_type": "display_data",
          "data": {
            "image/png": "[encoded data removed]",
            "text/plain": [
              "<Figure size 1440x720 with 4 Axes>"
            ]
          },
          "metadata": {
            "tags": []
          }
        }
      ]
    },
    {
      "cell_type": "markdown",
      "metadata": {
        "id": "OV2Dax6rVLvq"
      },
      "source": [
        "Here we get an idea of what the customer base looks like. It is roughly a 50/50 split between male and female, and roughly half of the customers live with a partner. Senior citizens make up about 16% of the customer base, while 70% of customers reports having no Dependents."
      ]
    },
    {
      "cell_type": "markdown",
      "metadata": {
        "id": "yLpHcD2nWh66"
      },
      "source": [
        "Next I explore some of the characteristics of the services used by the customers."
      ]
    },
    {
      "cell_type": "code",
      "metadata": {
        "id": "hmWBikcbVKGf",
        "colab": {
          "base_uri": "https://localhost:8080/",
          "height": 1000
        },
        "outputId": "9b6b3a64-f03e-44d1-d5e9-e514ebd46420"
      },
      "source": [
        "plt.rcParams['figure.figsize'] = [20,15]\n",
        "\n",
        "plt.subplot(3,3,1)\n",
        "plt.title('Phone Service Distribution')\n",
        "plt.pie(dict_counts['PhoneService_counts'],autopct='%1.1f%%',labels=dict_counts['PhoneService_classes'])\n",
        "\n",
        "plt.subplot(3,3,2)\n",
        "plt.title('Multiple Lines Distribution')\n",
        "plt.pie(dict_counts['MultipleLines_counts'],autopct='%1.1f%%',labels=dict_counts['MultipleLines_classes'])\n",
        "\n",
        "plt.subplot(3,3,3)\n",
        "plt.title('Internet Service Distribution')\n",
        "plt.pie(dict_counts['InternetService_counts'],autopct='%1.1f%%',labels=dict_counts['InternetService_classes'])\n",
        "\n",
        "plt.subplot(3,3,4)\n",
        "plt.title('Online Security Distribution')\n",
        "plt.pie(dict_counts['OnlineSecurity_counts'],autopct='%1.1f%%',labels=dict_counts['OnlineSecurity_classes'])\n",
        "\n",
        "plt.subplot(3,3,5)\n",
        "plt.title('Online Backup Distribution')\n",
        "plt.pie(dict_counts['OnlineBackup_counts'],autopct='%1.1f%%',labels=dict_counts['OnlineBackup_classes'])\n",
        "\n",
        "plt.subplot(3,3,6)\n",
        "plt.title('Device Protection Distribution')\n",
        "plt.pie(dict_counts['DeviceProtection_counts'],autopct='%1.1f%%',labels=dict_counts['DeviceProtection_classes'])\n",
        "\n",
        "plt.subplot(3,3,7)\n",
        "plt.title('Tech Support Distribution')\n",
        "plt.pie(dict_counts['TechSupport_counts'],autopct='%1.1f%%',labels=dict_counts['TechSupport_classes'])\n",
        "\n",
        "plt.subplot(3,3,8)\n",
        "plt.title('Streaming TV Distribution')\n",
        "plt.pie(dict_counts['StreamingTV_counts'],autopct='%1.1f%%',labels=dict_counts['StreamingTV_classes'])\n",
        "\n",
        "plt.subplot(3,3,9)\n",
        "plt.title('Streaming Movies Distribution')\n",
        "plt.pie(dict_counts['StreamingMovies_counts'],autopct='%1.1f%%',labels=dict_counts['StreamingMovies_classes'])\n",
        "\n",
        "\n",
        "plt.show"
      ],
      "execution_count": null,
      "outputs": [
        {
          "output_type": "execute_result",
          "data": {
            "text/plain": [
              "<function matplotlib.pyplot.show(*args, **kw)>"
            ]
          },
          "metadata": {
            "tags": []
          },
          "execution_count": 14
        },
        {
          "output_type": "display_data",
          "data": {
            "image/png": "[encoded data removed]",
            "text/plain": [
              "<Figure size 1440x1080 with 9 Axes>"
            ]
          },
          "metadata": {
            "tags": []
          }
        }
      ]
    },
    {
      "cell_type": "markdown",
      "metadata": {
        "id": "Kn4DBqVo1iCQ"
      },
      "source": [
        "Next I explore the account and billing information of the customers."
      ]
    },
    {
      "cell_type": "code",
      "metadata": {
        "id": "dmutjiXp1J3Y",
        "colab": {
          "base_uri": "https://localhost:8080/",
          "height": 420
        },
        "outputId": "b40cb0ea-31cc-4afb-d317-83fb04fdf213"
      },
      "source": [
        "plt.rcParams['figure.figsize'] = [15,15]\n",
        "\n",
        "plt.subplot(1,3,1)\n",
        "plt.title('Contract Distribution')\n",
        "plt.pie(dict_counts['Contract_counts'],autopct='%1.1f%%',labels=dict_counts['Contract_classes'])\n",
        "\n",
        "plt.subplot(1,3,2)\n",
        "plt.title('Paperless Billing Distribution')\n",
        "plt.pie(dict_counts['PaperlessBilling_counts'],autopct='%1.1f%%',labels=dict_counts['PaperlessBilling_classes'])\n",
        "\n",
        "plt.subplot(1,3,3)\n",
        "plt.title('Payment Method Distribution')\n",
        "plt.pie(dict_counts['PaymentMethod_counts'],autopct='%1.1f%%',labels=dict_counts['PaymentMethod_classes'])\n",
        "\n",
        "plt.show"
      ],
      "execution_count": null,
      "outputs": [
        {
          "output_type": "execute_result",
          "data": {
            "text/plain": [
              "<function matplotlib.pyplot.show(*args, **kw)>"
            ]
          },
          "metadata": {
            "tags": []
          },
          "execution_count": 15
        },
        {
          "output_type": "display_data",
          "data": {
            "image/png": "[encoded data removed]",
            "text/plain": [
              "<Figure size 1080x1080 with 3 Axes>"
            ]
          },
          "metadata": {
            "tags": []
          }
        }
      ]
    },
    {
      "cell_type": "markdown",
      "metadata": {
        "id": "D7650oWOyXOP"
      },
      "source": [
        "[Some observations on the above feature distributions]\n",
        "\n",
        "Lastly, and most importantly, I look at the distribution of the Target: Churn"
      ]
    },
    {
      "cell_type": "code",
      "metadata": {
        "id": "4Cr8myELwGEL",
        "colab": {
          "base_uri": "https://localhost:8080/",
          "height": 462
        },
        "outputId": "1fedf6a2-d4cb-43dc-93c6-e09750eb6d7e"
      },
      "source": [
        "plt.rcParams['figure.figsize'] = [5,5]\n",
        "plt.title('Churn Distribution')\n",
        "plt.pie(dict_counts['Churn_counts'],autopct='%1.1f%%',labels=dict_counts['Churn_classes'])\n",
        "\n",
        "plt.show"
      ],
      "execution_count": null,
      "outputs": [
        {
          "output_type": "execute_result",
          "data": {
            "text/plain": [
              "<function matplotlib.pyplot.show(*args, **kw)>"
            ]
          },
          "metadata": {
            "tags": []
          },
          "execution_count": 16
        },
        {
          "output_type": "display_data",
          "data": {
            "image/png": "[encoded data removed]",
            "text/plain": [
              "<Figure size 360x360 with 1 Axes>"
            ]
          },
          "metadata": {
            "tags": []
          }
        }
      ]
    },
    {
      "cell_type": "markdown",
      "metadata": {
        "id": "ttJPKzOIzONT"
      },
      "source": [
        "**Continuous Feature Exploration**"
      ]
    },
    {
      "cell_type": "code",
      "metadata": {
        "id": "2CwyZow9S6aX",
        "colab": {
          "base_uri": "https://localhost:8080/",
          "height": 520
        },
        "outputId": "44d9fad1-cd79-4824-fefa-6afa313ba73a"
      },
      "source": [
        "plt.rcParams['figure.figsize'] = [20,5]\n",
        "\n",
        "#plot histogram for each continuous feature\n",
        "plt.subplot(1,3,1)\n",
        "plt.title('Tenure Distribution')\n",
        "plt.hist(df['tenure'])\n",
        "\n",
        "plt.subplot(1,3,2)\n",
        "plt.title('Monthly Charges Distribution')\n",
        "plt.hist(df['MonthlyCharges'])\n",
        "\n",
        "plt.subplot(1,3,3)\n",
        "plt.title('Total Charges Distribution')\n",
        "plt.hist(df['TotalCharges'])"
      ],
      "execution_count": null,
      "outputs": [
        {
          "output_type": "execute_result",
          "data": {
            "text/plain": [
              "(array([2709., 1228.,  671.,  508.,  454.,  412.,  395.,  310.,  223.,\n",
              "         122.]),\n",
              " array([  18.8,  885.4, 1752. , 2618.6, 3485.2, 4351.8, 5218.4, 6085. ,\n",
              "        6951.6, 7818.2, 8684.8]),\n",
              " <a list of 10 Patch objects>)"
            ]
          },
          "metadata": {
            "tags": []
          },
          "execution_count": 17
        },
        {
          "output_type": "display_data",
          "data": {
            "image/png": "[encoded data removed]",
            "text/plain": [
              "<Figure size 1440x360 with 3 Axes>"
            ]
          },
          "metadata": {
            "tags": []
          }
        }
      ]
    },
    {
      "cell_type": "markdown",
      "metadata": {
        "id": "9QCh9ljS1uUE"
      },
      "source": [
        "All the continuous features are skewed left.\n",
        "\n",
        "The Tenure distribution shows that there are a lot of relatively new customers, as well as a lot of customers that have been customers for over 65 years. Considering the maximum tenure is 72 years, these are primarily customers that have been with the Telecom company since its inception.\n",
        "\n",
        "The Monthly Charges feature has an interesting distribution. There are a ton of customers who pay less than 30 dollars per month. If these customers were removed, the data would be close to Normally distributed centered around roughly 80 dollars per month.\n",
        "\n",
        "This can probably be explained by the services used by each customer. Customers that have no internet service probably pay much less than customers with internet service. Let's check it out.\n"
      ]
    },
    {
      "cell_type": "code",
      "metadata": {
        "id": "LLvDljP05Rgf",
        "colab": {
          "base_uri": "https://localhost:8080/",
          "height": 451
        },
        "outputId": "46cf8370-94a7-4615-ccf4-9b928a159b71"
      },
      "source": [
        "plt.rcParams['figure.figsize'] = [20,5]\n",
        "\n",
        "#Create separate dataframes for customers that have internet service and customers that do not\n",
        "df_no_internet = df.loc[(df['InternetService']=='No')]\n",
        "df_internet = df.loc[(df['InternetService']!='No')]\n",
        "\n",
        "#Plot the distributions of each of these group's monthly charges on the same histogram\n",
        "plt.title('Monthly Charges for Customers with No Internet')\n",
        "plt.hist(df_no_internet['MonthlyCharges'], alpha = .8,label = 'No Internet')\n",
        "\n",
        "plt.title('Monthly Charges for Customers with Internet')\n",
        "plt.hist(df_internet['MonthlyCharges'], alpha = .6,label = 'Internet')\n",
        "\n",
        "plt.legend()"
      ],
      "execution_count": null,
      "outputs": [
        {
          "output_type": "execute_result",
          "data": {
            "text/plain": [
              "<matplotlib.legend.Legend at 0x7fc603113d50>"
            ]
          },
          "metadata": {
            "tags": []
          },
          "execution_count": 18
        },
        {
          "output_type": "display_data",
          "data": {
            "image/png": "[encoded data removed]",
            "text/plain": [
              "<Figure size 1440x360 with 1 Axes>"
            ]
          },
          "metadata": {
            "tags": []
          }
        }
      ]
    },
    {
      "cell_type": "markdown",
      "metadata": {
        "id": "TelEqyCR4ia4"
      },
      "source": [
        "This shows that the cluster of customers who pay less than 30 dollars per month are primarily customers with no internet service."
      ]
    },
    {
      "cell_type": "markdown",
      "metadata": {
        "id": "8csQ_B2-3Eu1"
      },
      "source": [
        "# Create Feature and Target subsets"
      ]
    },
    {
      "cell_type": "code",
      "metadata": {
        "id": "41fk1lH_zzsS",
        "colab": {
          "base_uri": "https://localhost:8080/",
          "height": 1000
        },
        "outputId": "43f1e3de-448d-43ce-e4be-249c15f76866"
      },
      "source": [
        "from sklearn.model_selection import train_test_split, cross_val_score\n",
        "\n",
        "#Apply one hot encoding to the categorical features in the Feature dataframe\n",
        "df_dummies = pd.get_dummies(df,columns=['gender', 'SeniorCitizen', 'Partner', 'Dependents',\n",
        "       'PhoneService', 'MultipleLines', 'InternetService', 'OnlineSecurity',\n",
        "       'OnlineBackup', 'DeviceProtection', 'TechSupport', 'StreamingTV',\n",
        "       'StreamingMovies', 'Contract', 'PaperlessBilling', 'PaymentMethod','Churn'],drop_first=True)\n",
        "\n",
        "#Create a Series for the Target\n",
        "y = df_dummies['Churn_Yes']\n",
        "\n",
        "#Create a dataframe for Features by dropping the Target and the unique identifier column\n",
        "X = df_dummies.drop(['Churn_Yes','customerID'],axis=1)\n",
        "\n",
        "#Examine the correlation coefficients between the Features\n",
        "df_dummies.corr()"
      ],
      "execution_count": null,
      "outputs": [
        {
          "output_type": "execute_result",
          "data": {
            "text/html": [
              "<div>\n",
              "<style scoped>\n",
              "    .dataframe tbody tr th:only-of-type {\n",
              "        vertical-align: middle;\n",
              "    }\n",
              "\n",
              "    .dataframe tbody tr th {\n",
              "        vertical-align: top;\n",
              "    }\n",
              "\n",
              "    .dataframe thead th {\n",
              "        text-align: right;\n",
              "    }\n",
              "</style>\n",
              "<table border=\"1\" class=\"dataframe\">\n",
              "  <thead>\n",
              "    <tr style=\"text-align: right;\">\n",
              "      <th></th>\n",
              "      <th>tenure</th>\n",
              "      <th>MonthlyCharges</th>\n",
              "      <th>TotalCharges</th>\n",
              "      <th>gender_Male</th>\n",
              "      <th>SeniorCitizen_1</th>\n",
              "      <th>Partner_Yes</th>\n",
              "      <th>Dependents_Yes</th>\n",
              "      <th>PhoneService_Yes</th>\n",
              "      <th>MultipleLines_No phone service</th>\n",
              "      <th>MultipleLines_Yes</th>\n",
              "      <th>...</th>\n",
              "      <th>StreamingTV_Yes</th>\n",
              "      <th>StreamingMovies_No internet service</th>\n",
              "      <th>StreamingMovies_Yes</th>\n",
              "      <th>Contract_One year</th>\n",
              "      <th>Contract_Two year</th>\n",
              "      <th>PaperlessBilling_Yes</th>\n",
              "      <th>PaymentMethod_Credit card (automatic)</th>\n",
              "      <th>PaymentMethod_Electronic check</th>\n",
              "      <th>PaymentMethod_Mailed check</th>\n",
              "      <th>Churn_Yes</th>\n",
              "    </tr>\n",
              "  </thead>\n",
              "  <tbody>\n",
              "    <tr>\n",
              "      <th>tenure</th>\n",
              "      <td>1.000000</td>\n",
              "      <td>0.246862</td>\n",
              "      <td>0.825880</td>\n",
              "      <td>0.005285</td>\n",
              "      <td>0.015683</td>\n",
              "      <td>0.381912</td>\n",
              "      <td>0.163386</td>\n",
              "      <td>0.007877</td>\n",
              "      <td>-0.007877</td>\n",
              "      <td>0.332399</td>\n",
              "      <td>...</td>\n",
              "      <td>0.280264</td>\n",
              "      <td>-0.037529</td>\n",
              "      <td>0.285402</td>\n",
              "      <td>0.202338</td>\n",
              "      <td>0.563801</td>\n",
              "      <td>0.004823</td>\n",
              "      <td>0.232800</td>\n",
              "      <td>-0.210197</td>\n",
              "      <td>-0.232181</td>\n",
              "      <td>-0.354049</td>\n",
              "    </tr>\n",
              "    <tr>\n",
              "      <th>MonthlyCharges</th>\n",
              "      <td>0.246862</td>\n",
              "      <td>1.000000</td>\n",
              "      <td>0.651065</td>\n",
              "      <td>-0.013779</td>\n",
              "      <td>0.219874</td>\n",
              "      <td>0.097825</td>\n",
              "      <td>-0.112343</td>\n",
              "      <td>0.248033</td>\n",
              "      <td>-0.248033</td>\n",
              "      <td>0.490912</td>\n",
              "      <td>...</td>\n",
              "      <td>0.629668</td>\n",
              "      <td>-0.763191</td>\n",
              "      <td>0.627235</td>\n",
              "      <td>0.004810</td>\n",
              "      <td>-0.073256</td>\n",
              "      <td>0.351930</td>\n",
              "      <td>0.030055</td>\n",
              "      <td>0.271117</td>\n",
              "      <td>-0.376568</td>\n",
              "      <td>0.192858</td>\n",
              "    </tr>\n",
              "    <tr>\n",
              "      <th>TotalCharges</th>\n",
              "      <td>0.825880</td>\n",
              "      <td>0.651065</td>\n",
              "      <td>1.000000</td>\n",
              "      <td>0.000048</td>\n",
              "      <td>0.102411</td>\n",
              "      <td>0.319072</td>\n",
              "      <td>0.064653</td>\n",
              "      <td>0.113008</td>\n",
              "      <td>-0.113008</td>\n",
              "      <td>0.469042</td>\n",
              "      <td>...</td>\n",
              "      <td>0.515709</td>\n",
              "      <td>-0.374878</td>\n",
              "      <td>0.519867</td>\n",
              "      <td>0.170569</td>\n",
              "      <td>0.358036</td>\n",
              "      <td>0.157830</td>\n",
              "      <td>0.182663</td>\n",
              "      <td>-0.060436</td>\n",
              "      <td>-0.294708</td>\n",
              "      <td>-0.199484</td>\n",
              "    </tr>\n",
              "    <tr>\n",
              "      <th>gender_Male</th>\n",
              "      <td>0.005285</td>\n",
              "      <td>-0.013779</td>\n",
              "      <td>0.000048</td>\n",
              "      <td>1.000000</td>\n",
              "      <td>-0.001819</td>\n",
              "      <td>-0.001379</td>\n",
              "      <td>0.010349</td>\n",
              "      <td>-0.007515</td>\n",
              "      <td>0.007515</td>\n",
              "      <td>-0.008883</td>\n",
              "      <td>...</td>\n",
              "      <td>-0.007124</td>\n",
              "      <td>0.004745</td>\n",
              "      <td>-0.010105</td>\n",
              "      <td>0.007755</td>\n",
              "      <td>-0.003603</td>\n",
              "      <td>-0.011902</td>\n",
              "      <td>0.001632</td>\n",
              "      <td>0.000844</td>\n",
              "      <td>0.013199</td>\n",
              "      <td>-0.008545</td>\n",
              "    </tr>\n",
              "    <tr>\n",
              "      <th>SeniorCitizen_1</th>\n",
              "      <td>0.015683</td>\n",
              "      <td>0.219874</td>\n",
              "      <td>0.102411</td>\n",
              "      <td>-0.001819</td>\n",
              "      <td>1.000000</td>\n",
              "      <td>0.016957</td>\n",
              "      <td>-0.210550</td>\n",
              "      <td>0.008392</td>\n",
              "      <td>-0.008392</td>\n",
              "      <td>0.142996</td>\n",
              "      <td>...</td>\n",
              "      <td>0.105445</td>\n",
              "      <td>-0.182519</td>\n",
              "      <td>0.119842</td>\n",
              "      <td>-0.046491</td>\n",
              "      <td>-0.116205</td>\n",
              "      <td>0.156258</td>\n",
              "      <td>-0.024359</td>\n",
              "      <td>0.171322</td>\n",
              "      <td>-0.152987</td>\n",
              "      <td>0.150541</td>\n",
              "    </tr>\n",
              "    <tr>\n",
              "      <th>Partner_Yes</th>\n",
              "      <td>0.381912</td>\n",
              "      <td>0.097825</td>\n",
              "      <td>0.319072</td>\n",
              "      <td>-0.001379</td>\n",
              "      <td>0.016957</td>\n",
              "      <td>1.000000</td>\n",
              "      <td>0.452269</td>\n",
              "      <td>0.018397</td>\n",
              "      <td>-0.018397</td>\n",
              "      <td>0.142561</td>\n",
              "      <td>...</td>\n",
              "      <td>0.124483</td>\n",
              "      <td>-0.000286</td>\n",
              "      <td>0.118108</td>\n",
              "      <td>0.083067</td>\n",
              "      <td>0.247334</td>\n",
              "      <td>-0.013957</td>\n",
              "      <td>0.082327</td>\n",
              "      <td>-0.083207</td>\n",
              "      <td>-0.096948</td>\n",
              "      <td>-0.149982</td>\n",
              "    </tr>\n",
              "    <tr>\n",
              "      <th>Dependents_Yes</th>\n",
              "      <td>0.163386</td>\n",
              "      <td>-0.112343</td>\n",
              "      <td>0.064653</td>\n",
              "      <td>0.010349</td>\n",
              "      <td>-0.210550</td>\n",
              "      <td>0.452269</td>\n",
              "      <td>1.000000</td>\n",
              "      <td>-0.001078</td>\n",
              "      <td>0.001078</td>\n",
              "      <td>-0.024307</td>\n",
              "      <td>...</td>\n",
              "      <td>-0.016499</td>\n",
              "      <td>0.138383</td>\n",
              "      <td>-0.038375</td>\n",
              "      <td>0.069222</td>\n",
              "      <td>0.201699</td>\n",
              "      <td>-0.110131</td>\n",
              "      <td>0.061134</td>\n",
              "      <td>-0.149274</td>\n",
              "      <td>0.056448</td>\n",
              "      <td>-0.163128</td>\n",
              "    </tr>\n",
              "    <tr>\n",
              "      <th>PhoneService_Yes</th>\n",
              "      <td>0.007877</td>\n",
              "      <td>0.248033</td>\n",
              "      <td>0.113008</td>\n",
              "      <td>-0.007515</td>\n",
              "      <td>0.008392</td>\n",
              "      <td>0.018397</td>\n",
              "      <td>-0.001078</td>\n",
              "      <td>1.000000</td>\n",
              "      <td>-1.000000</td>\n",
              "      <td>0.279530</td>\n",
              "      <td>...</td>\n",
              "      <td>-0.021383</td>\n",
              "      <td>0.171817</td>\n",
              "      <td>-0.033477</td>\n",
              "      <td>-0.003142</td>\n",
              "      <td>0.004442</td>\n",
              "      <td>0.016696</td>\n",
              "      <td>-0.006916</td>\n",
              "      <td>0.002747</td>\n",
              "      <td>-0.004463</td>\n",
              "      <td>0.011691</td>\n",
              "    </tr>\n",
              "    <tr>\n",
              "      <th>MultipleLines_No phone service</th>\n",
              "      <td>-0.007877</td>\n",
              "      <td>-0.248033</td>\n",
              "      <td>-0.113008</td>\n",
              "      <td>0.007515</td>\n",
              "      <td>-0.008392</td>\n",
              "      <td>-0.018397</td>\n",
              "      <td>0.001078</td>\n",
              "      <td>-1.000000</td>\n",
              "      <td>1.000000</td>\n",
              "      <td>-0.279530</td>\n",
              "      <td>...</td>\n",
              "      <td>0.021383</td>\n",
              "      <td>-0.171817</td>\n",
              "      <td>0.033477</td>\n",
              "      <td>0.003142</td>\n",
              "      <td>-0.004442</td>\n",
              "      <td>-0.016696</td>\n",
              "      <td>0.006916</td>\n",
              "      <td>-0.002747</td>\n",
              "      <td>0.004463</td>\n",
              "      <td>-0.011691</td>\n",
              "    </tr>\n",
              "    <tr>\n",
              "      <th>MultipleLines_Yes</th>\n",
              "      <td>0.332399</td>\n",
              "      <td>0.490912</td>\n",
              "      <td>0.469042</td>\n",
              "      <td>-0.008883</td>\n",
              "      <td>0.142996</td>\n",
              "      <td>0.142561</td>\n",
              "      <td>-0.024307</td>\n",
              "      <td>0.279530</td>\n",
              "      <td>-0.279530</td>\n",
              "      <td>1.000000</td>\n",
              "      <td>...</td>\n",
              "      <td>0.257804</td>\n",
              "      <td>-0.210794</td>\n",
              "      <td>0.259194</td>\n",
              "      <td>-0.003594</td>\n",
              "      <td>0.106618</td>\n",
              "      <td>0.163746</td>\n",
              "      <td>0.060319</td>\n",
              "      <td>0.083583</td>\n",
              "      <td>-0.227672</td>\n",
              "      <td>0.040033</td>\n",
              "    </tr>\n",
              "    <tr>\n",
              "      <th>InternetService_Fiber optic</th>\n",
              "      <td>0.017930</td>\n",
              "      <td>0.787195</td>\n",
              "      <td>0.360769</td>\n",
              "      <td>-0.011189</td>\n",
              "      <td>0.254923</td>\n",
              "      <td>0.001235</td>\n",
              "      <td>-0.164101</td>\n",
              "      <td>0.290183</td>\n",
              "      <td>-0.290183</td>\n",
              "      <td>0.366420</td>\n",
              "      <td>...</td>\n",
              "      <td>0.329744</td>\n",
              "      <td>-0.465736</td>\n",
              "      <td>0.322457</td>\n",
              "      <td>-0.076809</td>\n",
              "      <td>-0.209965</td>\n",
              "      <td>0.326470</td>\n",
              "      <td>-0.050552</td>\n",
              "      <td>0.335763</td>\n",
              "      <td>-0.305984</td>\n",
              "      <td>0.307463</td>\n",
              "    </tr>\n",
              "    <tr>\n",
              "      <th>InternetService_No</th>\n",
              "      <td>-0.037529</td>\n",
              "      <td>-0.763191</td>\n",
              "      <td>-0.374878</td>\n",
              "      <td>0.004745</td>\n",
              "      <td>-0.182519</td>\n",
              "      <td>-0.000286</td>\n",
              "      <td>0.138383</td>\n",
              "      <td>0.171817</td>\n",
              "      <td>-0.171817</td>\n",
              "      <td>-0.210794</td>\n",
              "      <td>...</td>\n",
              "      <td>-0.414951</td>\n",
              "      <td>1.000000</td>\n",
              "      <td>-0.418450</td>\n",
              "      <td>0.038061</td>\n",
              "      <td>0.217542</td>\n",
              "      <td>-0.320592</td>\n",
              "      <td>0.001870</td>\n",
              "      <td>-0.284608</td>\n",
              "      <td>0.319694</td>\n",
              "      <td>-0.227578</td>\n",
              "    </tr>\n",
              "    <tr>\n",
              "      <th>OnlineSecurity_No internet service</th>\n",
              "      <td>-0.037529</td>\n",
              "      <td>-0.763191</td>\n",
              "      <td>-0.374878</td>\n",
              "      <td>0.004745</td>\n",
              "      <td>-0.182519</td>\n",
              "      <td>-0.000286</td>\n",
              "      <td>0.138383</td>\n",
              "      <td>0.171817</td>\n",
              "      <td>-0.171817</td>\n",
              "      <td>-0.210794</td>\n",
              "      <td>...</td>\n",
              "      <td>-0.414951</td>\n",
              "      <td>1.000000</td>\n",
              "      <td>-0.418450</td>\n",
              "      <td>0.038061</td>\n",
              "      <td>0.217542</td>\n",
              "      <td>-0.320592</td>\n",
              "      <td>0.001870</td>\n",
              "      <td>-0.284608</td>\n",
              "      <td>0.319694</td>\n",
              "      <td>-0.227578</td>\n",
              "    </tr>\n",
              "    <tr>\n",
              "      <th>OnlineSecurity_Yes</th>\n",
              "      <td>0.328297</td>\n",
              "      <td>0.296447</td>\n",
              "      <td>0.412619</td>\n",
              "      <td>-0.016328</td>\n",
              "      <td>-0.038576</td>\n",
              "      <td>0.143346</td>\n",
              "      <td>0.080786</td>\n",
              "      <td>-0.091676</td>\n",
              "      <td>0.091676</td>\n",
              "      <td>0.098592</td>\n",
              "      <td>...</td>\n",
              "      <td>0.175514</td>\n",
              "      <td>-0.332799</td>\n",
              "      <td>0.187426</td>\n",
              "      <td>0.100658</td>\n",
              "      <td>0.191698</td>\n",
              "      <td>-0.004051</td>\n",
              "      <td>0.115473</td>\n",
              "      <td>-0.112295</td>\n",
              "      <td>-0.079918</td>\n",
              "      <td>-0.171270</td>\n",
              "    </tr>\n",
              "    <tr>\n",
              "      <th>OnlineBackup_No internet service</th>\n",
              "      <td>-0.037529</td>\n",
              "      <td>-0.763191</td>\n",
              "      <td>-0.374878</td>\n",
              "      <td>0.004745</td>\n",
              "      <td>-0.182519</td>\n",
              "      <td>-0.000286</td>\n",
              "      <td>0.138383</td>\n",
              "      <td>0.171817</td>\n",
              "      <td>-0.171817</td>\n",
              "      <td>-0.210794</td>\n",
              "      <td>...</td>\n",
              "      <td>-0.414951</td>\n",
              "      <td>1.000000</td>\n",
              "      <td>-0.418450</td>\n",
              "      <td>0.038061</td>\n",
              "      <td>0.217542</td>\n",
              "      <td>-0.320592</td>\n",
              "      <td>0.001870</td>\n",
              "      <td>-0.284608</td>\n",
              "      <td>0.319694</td>\n",
              "      <td>-0.227578</td>\n",
              "    </tr>\n",
              "    <tr>\n",
              "      <th>OnlineBackup_Yes</th>\n",
              "      <td>0.361138</td>\n",
              "      <td>0.441529</td>\n",
              "      <td>0.510100</td>\n",
              "      <td>-0.013093</td>\n",
              "      <td>0.066663</td>\n",
              "      <td>0.141849</td>\n",
              "      <td>0.023639</td>\n",
              "      <td>-0.052133</td>\n",
              "      <td>0.052133</td>\n",
              "      <td>0.202228</td>\n",
              "      <td>...</td>\n",
              "      <td>0.281601</td>\n",
              "      <td>-0.380990</td>\n",
              "      <td>0.274523</td>\n",
              "      <td>0.084113</td>\n",
              "      <td>0.111391</td>\n",
              "      <td>0.127056</td>\n",
              "      <td>0.090455</td>\n",
              "      <td>-0.000364</td>\n",
              "      <td>-0.174075</td>\n",
              "      <td>-0.082307</td>\n",
              "    </tr>\n",
              "    <tr>\n",
              "      <th>DeviceProtection_No internet service</th>\n",
              "      <td>-0.037529</td>\n",
              "      <td>-0.763191</td>\n",
              "      <td>-0.374878</td>\n",
              "      <td>0.004745</td>\n",
              "      <td>-0.182519</td>\n",
              "      <td>-0.000286</td>\n",
              "      <td>0.138383</td>\n",
              "      <td>0.171817</td>\n",
              "      <td>-0.171817</td>\n",
              "      <td>-0.210794</td>\n",
              "      <td>...</td>\n",
              "      <td>-0.414951</td>\n",
              "      <td>1.000000</td>\n",
              "      <td>-0.418450</td>\n",
              "      <td>0.038061</td>\n",
              "      <td>0.217542</td>\n",
              "      <td>-0.320592</td>\n",
              "      <td>0.001870</td>\n",
              "      <td>-0.284608</td>\n",
              "      <td>0.319694</td>\n",
              "      <td>-0.227578</td>\n",
              "    </tr>\n",
              "    <tr>\n",
              "      <th>DeviceProtection_Yes</th>\n",
              "      <td>0.361520</td>\n",
              "      <td>0.482607</td>\n",
              "      <td>0.522881</td>\n",
              "      <td>-0.000807</td>\n",
              "      <td>0.059514</td>\n",
              "      <td>0.153556</td>\n",
              "      <td>0.013900</td>\n",
              "      <td>-0.070076</td>\n",
              "      <td>0.070076</td>\n",
              "      <td>0.201733</td>\n",
              "      <td>...</td>\n",
              "      <td>0.389924</td>\n",
              "      <td>-0.380151</td>\n",
              "      <td>0.402309</td>\n",
              "      <td>0.102911</td>\n",
              "      <td>0.165248</td>\n",
              "      <td>0.104079</td>\n",
              "      <td>0.111252</td>\n",
              "      <td>-0.003308</td>\n",
              "      <td>-0.187325</td>\n",
              "      <td>-0.066193</td>\n",
              "    </tr>\n",
              "    <tr>\n",
              "      <th>TechSupport_No internet service</th>\n",
              "      <td>-0.037529</td>\n",
              "      <td>-0.763191</td>\n",
              "      <td>-0.374878</td>\n",
              "      <td>0.004745</td>\n",
              "      <td>-0.182519</td>\n",
              "      <td>-0.000286</td>\n",
              "      <td>0.138383</td>\n",
              "      <td>0.171817</td>\n",
              "      <td>-0.171817</td>\n",
              "      <td>-0.210794</td>\n",
              "      <td>...</td>\n",
              "      <td>-0.414951</td>\n",
              "      <td>1.000000</td>\n",
              "      <td>-0.418450</td>\n",
              "      <td>0.038061</td>\n",
              "      <td>0.217542</td>\n",
              "      <td>-0.320592</td>\n",
              "      <td>0.001870</td>\n",
              "      <td>-0.284608</td>\n",
              "      <td>0.319694</td>\n",
              "      <td>-0.227578</td>\n",
              "    </tr>\n",
              "    <tr>\n",
              "      <th>TechSupport_Yes</th>\n",
              "      <td>0.325288</td>\n",
              "      <td>0.338301</td>\n",
              "      <td>0.432868</td>\n",
              "      <td>-0.008507</td>\n",
              "      <td>-0.060577</td>\n",
              "      <td>0.120206</td>\n",
              "      <td>0.063053</td>\n",
              "      <td>-0.095138</td>\n",
              "      <td>0.095138</td>\n",
              "      <td>0.100421</td>\n",
              "      <td>...</td>\n",
              "      <td>0.277549</td>\n",
              "      <td>-0.335695</td>\n",
              "      <td>0.280155</td>\n",
              "      <td>0.096258</td>\n",
              "      <td>0.240924</td>\n",
              "      <td>0.037536</td>\n",
              "      <td>0.117024</td>\n",
              "      <td>-0.114807</td>\n",
              "      <td>-0.084631</td>\n",
              "      <td>-0.164716</td>\n",
              "    </tr>\n",
              "    <tr>\n",
              "      <th>StreamingTV_No internet service</th>\n",
              "      <td>-0.037529</td>\n",
              "      <td>-0.763191</td>\n",
              "      <td>-0.374878</td>\n",
              "      <td>0.004745</td>\n",
              "      <td>-0.182519</td>\n",
              "      <td>-0.000286</td>\n",
              "      <td>0.138383</td>\n",
              "      <td>0.171817</td>\n",
              "      <td>-0.171817</td>\n",
              "      <td>-0.210794</td>\n",
              "      <td>...</td>\n",
              "      <td>-0.414951</td>\n",
              "      <td>1.000000</td>\n",
              "      <td>-0.418450</td>\n",
              "      <td>0.038061</td>\n",
              "      <td>0.217542</td>\n",
              "      <td>-0.320592</td>\n",
              "      <td>0.001870</td>\n",
              "      <td>-0.284608</td>\n",
              "      <td>0.319694</td>\n",
              "      <td>-0.227578</td>\n",
              "    </tr>\n",
              "    <tr>\n",
              "      <th>StreamingTV_Yes</th>\n",
              "      <td>0.280264</td>\n",
              "      <td>0.629668</td>\n",
              "      <td>0.515709</td>\n",
              "      <td>-0.007124</td>\n",
              "      <td>0.105445</td>\n",
              "      <td>0.124483</td>\n",
              "      <td>-0.016499</td>\n",
              "      <td>-0.021383</td>\n",
              "      <td>0.021383</td>\n",
              "      <td>0.257804</td>\n",
              "      <td>...</td>\n",
              "      <td>1.000000</td>\n",
              "      <td>-0.414951</td>\n",
              "      <td>0.533380</td>\n",
              "      <td>0.061930</td>\n",
              "      <td>0.072124</td>\n",
              "      <td>0.224241</td>\n",
              "      <td>0.040010</td>\n",
              "      <td>0.144747</td>\n",
              "      <td>-0.247712</td>\n",
              "      <td>0.063254</td>\n",
              "    </tr>\n",
              "    <tr>\n",
              "      <th>StreamingMovies_No internet service</th>\n",
              "      <td>-0.037529</td>\n",
              "      <td>-0.763191</td>\n",
              "      <td>-0.374878</td>\n",
              "      <td>0.004745</td>\n",
              "      <td>-0.182519</td>\n",
              "      <td>-0.000286</td>\n",
              "      <td>0.138383</td>\n",
              "      <td>0.171817</td>\n",
              "      <td>-0.171817</td>\n",
              "      <td>-0.210794</td>\n",
              "      <td>...</td>\n",
              "      <td>-0.414951</td>\n",
              "      <td>1.000000</td>\n",
              "      <td>-0.418450</td>\n",
              "      <td>0.038061</td>\n",
              "      <td>0.217542</td>\n",
              "      <td>-0.320592</td>\n",
              "      <td>0.001870</td>\n",
              "      <td>-0.284608</td>\n",
              "      <td>0.319694</td>\n",
              "      <td>-0.227578</td>\n",
              "    </tr>\n",
              "    <tr>\n",
              "      <th>StreamingMovies_Yes</th>\n",
              "      <td>0.285402</td>\n",
              "      <td>0.627235</td>\n",
              "      <td>0.519867</td>\n",
              "      <td>-0.010105</td>\n",
              "      <td>0.119842</td>\n",
              "      <td>0.118108</td>\n",
              "      <td>-0.038375</td>\n",
              "      <td>-0.033477</td>\n",
              "      <td>0.033477</td>\n",
              "      <td>0.259194</td>\n",
              "      <td>...</td>\n",
              "      <td>0.533380</td>\n",
              "      <td>-0.418450</td>\n",
              "      <td>1.000000</td>\n",
              "      <td>0.064780</td>\n",
              "      <td>0.075603</td>\n",
              "      <td>0.211583</td>\n",
              "      <td>0.048398</td>\n",
              "      <td>0.137420</td>\n",
              "      <td>-0.250290</td>\n",
              "      <td>0.060860</td>\n",
              "    </tr>\n",
              "    <tr>\n",
              "      <th>Contract_One year</th>\n",
              "      <td>0.202338</td>\n",
              "      <td>0.004810</td>\n",
              "      <td>0.170569</td>\n",
              "      <td>0.007755</td>\n",
              "      <td>-0.046491</td>\n",
              "      <td>0.083067</td>\n",
              "      <td>0.069222</td>\n",
              "      <td>-0.003142</td>\n",
              "      <td>0.003142</td>\n",
              "      <td>-0.003594</td>\n",
              "      <td>...</td>\n",
              "      <td>0.061930</td>\n",
              "      <td>0.038061</td>\n",
              "      <td>0.064780</td>\n",
              "      <td>1.000000</td>\n",
              "      <td>-0.288843</td>\n",
              "      <td>-0.052278</td>\n",
              "      <td>0.067590</td>\n",
              "      <td>-0.109546</td>\n",
              "      <td>0.000197</td>\n",
              "      <td>-0.178225</td>\n",
              "    </tr>\n",
              "    <tr>\n",
              "      <th>Contract_Two year</th>\n",
              "      <td>0.563801</td>\n",
              "      <td>-0.073256</td>\n",
              "      <td>0.358036</td>\n",
              "      <td>-0.003603</td>\n",
              "      <td>-0.116205</td>\n",
              "      <td>0.247334</td>\n",
              "      <td>0.201699</td>\n",
              "      <td>0.004442</td>\n",
              "      <td>-0.004442</td>\n",
              "      <td>0.106618</td>\n",
              "      <td>...</td>\n",
              "      <td>0.072124</td>\n",
              "      <td>0.217542</td>\n",
              "      <td>0.075603</td>\n",
              "      <td>-0.288843</td>\n",
              "      <td>1.000000</td>\n",
              "      <td>-0.146281</td>\n",
              "      <td>0.174410</td>\n",
              "      <td>-0.281147</td>\n",
              "      <td>-0.007423</td>\n",
              "      <td>-0.301552</td>\n",
              "    </tr>\n",
              "    <tr>\n",
              "      <th>PaperlessBilling_Yes</th>\n",
              "      <td>0.004823</td>\n",
              "      <td>0.351930</td>\n",
              "      <td>0.157830</td>\n",
              "      <td>-0.011902</td>\n",
              "      <td>0.156258</td>\n",
              "      <td>-0.013957</td>\n",
              "      <td>-0.110131</td>\n",
              "      <td>0.016696</td>\n",
              "      <td>-0.016696</td>\n",
              "      <td>0.163746</td>\n",
              "      <td>...</td>\n",
              "      <td>0.224241</td>\n",
              "      <td>-0.320592</td>\n",
              "      <td>0.211583</td>\n",
              "      <td>-0.052278</td>\n",
              "      <td>-0.146281</td>\n",
              "      <td>1.000000</td>\n",
              "      <td>-0.013726</td>\n",
              "      <td>0.208427</td>\n",
              "      <td>-0.203981</td>\n",
              "      <td>0.191454</td>\n",
              "    </tr>\n",
              "    <tr>\n",
              "      <th>PaymentMethod_Credit card (automatic)</th>\n",
              "      <td>0.232800</td>\n",
              "      <td>0.030055</td>\n",
              "      <td>0.182663</td>\n",
              "      <td>0.001632</td>\n",
              "      <td>-0.024359</td>\n",
              "      <td>0.082327</td>\n",
              "      <td>0.061134</td>\n",
              "      <td>-0.006916</td>\n",
              "      <td>0.006916</td>\n",
              "      <td>0.060319</td>\n",
              "      <td>...</td>\n",
              "      <td>0.040010</td>\n",
              "      <td>0.001870</td>\n",
              "      <td>0.048398</td>\n",
              "      <td>0.067590</td>\n",
              "      <td>0.174410</td>\n",
              "      <td>-0.013726</td>\n",
              "      <td>1.000000</td>\n",
              "      <td>-0.373978</td>\n",
              "      <td>-0.285583</td>\n",
              "      <td>-0.134687</td>\n",
              "    </tr>\n",
              "    <tr>\n",
              "      <th>PaymentMethod_Electronic check</th>\n",
              "      <td>-0.210197</td>\n",
              "      <td>0.271117</td>\n",
              "      <td>-0.060436</td>\n",
              "      <td>0.000844</td>\n",
              "      <td>0.171322</td>\n",
              "      <td>-0.083207</td>\n",
              "      <td>-0.149274</td>\n",
              "      <td>0.002747</td>\n",
              "      <td>-0.002747</td>\n",
              "      <td>0.083583</td>\n",
              "      <td>...</td>\n",
              "      <td>0.144747</td>\n",
              "      <td>-0.284608</td>\n",
              "      <td>0.137420</td>\n",
              "      <td>-0.109546</td>\n",
              "      <td>-0.281147</td>\n",
              "      <td>0.208427</td>\n",
              "      <td>-0.373978</td>\n",
              "      <td>1.000000</td>\n",
              "      <td>-0.386971</td>\n",
              "      <td>0.301455</td>\n",
              "    </tr>\n",
              "    <tr>\n",
              "      <th>PaymentMethod_Mailed check</th>\n",
              "      <td>-0.232181</td>\n",
              "      <td>-0.376568</td>\n",
              "      <td>-0.294708</td>\n",
              "      <td>0.013199</td>\n",
              "      <td>-0.152987</td>\n",
              "      <td>-0.096948</td>\n",
              "      <td>0.056448</td>\n",
              "      <td>-0.004463</td>\n",
              "      <td>0.004463</td>\n",
              "      <td>-0.227672</td>\n",
              "      <td>...</td>\n",
              "      <td>-0.247712</td>\n",
              "      <td>0.319694</td>\n",
              "      <td>-0.250290</td>\n",
              "      <td>0.000197</td>\n",
              "      <td>-0.007423</td>\n",
              "      <td>-0.203981</td>\n",
              "      <td>-0.285583</td>\n",
              "      <td>-0.386971</td>\n",
              "      <td>1.000000</td>\n",
              "      <td>-0.090773</td>\n",
              "    </tr>\n",
              "    <tr>\n",
              "      <th>Churn_Yes</th>\n",
              "      <td>-0.354049</td>\n",
              "      <td>0.192858</td>\n",
              "      <td>-0.199484</td>\n",
              "      <td>-0.008545</td>\n",
              "      <td>0.150541</td>\n",
              "      <td>-0.149982</td>\n",
              "      <td>-0.163128</td>\n",
              "      <td>0.011691</td>\n",
              "      <td>-0.011691</td>\n",
              "      <td>0.040033</td>\n",
              "      <td>...</td>\n",
              "      <td>0.063254</td>\n",
              "      <td>-0.227578</td>\n",
              "      <td>0.060860</td>\n",
              "      <td>-0.178225</td>\n",
              "      <td>-0.301552</td>\n",
              "      <td>0.191454</td>\n",
              "      <td>-0.134687</td>\n",
              "      <td>0.301455</td>\n",
              "      <td>-0.090773</td>\n",
              "      <td>1.000000</td>\n",
              "    </tr>\n",
              "  </tbody>\n",
              "</table>\n",
              "<p>31 rows × 31 columns</p>\n",
              "</div>"
            ],
            "text/plain": [
              "                                         tenure  MonthlyCharges  TotalCharges  \\\n",
              "tenure                                 1.000000        0.246862      0.825880   \n",
              "MonthlyCharges                         0.246862        1.000000      0.651065   \n",
              "TotalCharges                           0.825880        0.651065      1.000000   \n",
              "gender_Male                            0.005285       -0.013779      0.000048   \n",
              "SeniorCitizen_1                        0.015683        0.219874      0.102411   \n",
              "Partner_Yes                            0.381912        0.097825      0.319072   \n",
              "Dependents_Yes                         0.163386       -0.112343      0.064653   \n",
              "PhoneService_Yes                       0.007877        0.248033      0.113008   \n",
              "MultipleLines_No phone service        -0.007877       -0.248033     -0.113008   \n",
              "MultipleLines_Yes                      0.332399        0.490912      0.469042   \n",
              "InternetService_Fiber optic            0.017930        0.787195      0.360769   \n",
              "InternetService_No                    -0.037529       -0.763191     -0.374878   \n",
              "OnlineSecurity_No internet service    -0.037529       -0.763191     -0.374878   \n",
              "OnlineSecurity_Yes                     0.328297        0.296447      0.412619   \n",
              "OnlineBackup_No internet service      -0.037529       -0.763191     -0.374878   \n",
              "OnlineBackup_Yes                       0.361138        0.441529      0.510100   \n",
              "DeviceProtection_No internet service  -0.037529       -0.763191     -0.374878   \n",
              "DeviceProtection_Yes                   0.361520        0.482607      0.522881   \n",
              "TechSupport_No internet service       -0.037529       -0.763191     -0.374878   \n",
              "TechSupport_Yes                        0.325288        0.338301      0.432868   \n",
              "StreamingTV_No internet service       -0.037529       -0.763191     -0.374878   \n",
              "StreamingTV_Yes                        0.280264        0.629668      0.515709   \n",
              "StreamingMovies_No internet service   -0.037529       -0.763191     -0.374878   \n",
              "StreamingMovies_Yes                    0.285402        0.627235      0.519867   \n",
              "Contract_One year                      0.202338        0.004810      0.170569   \n",
              "Contract_Two year                      0.563801       -0.073256      0.358036   \n",
              "PaperlessBilling_Yes                   0.004823        0.351930      0.157830   \n",
              "PaymentMethod_Credit card (automatic)  0.232800        0.030055      0.182663   \n",
              "PaymentMethod_Electronic check        -0.210197        0.271117     -0.060436   \n",
              "PaymentMethod_Mailed check            -0.232181       -0.376568     -0.294708   \n",
              "Churn_Yes                             -0.354049        0.192858     -0.199484   \n",
              "\n",
              "                                       gender_Male  SeniorCitizen_1  \\\n",
              "tenure                                    0.005285         0.015683   \n",
              "MonthlyCharges                           -0.013779         0.219874   \n",
              "TotalCharges                              0.000048         0.102411   \n",
              "gender_Male                               1.000000        -0.001819   \n",
              "SeniorCitizen_1                          -0.001819         1.000000   \n",
              "Partner_Yes                              -0.001379         0.016957   \n",
              "Dependents_Yes                            0.010349        -0.210550   \n",
              "PhoneService_Yes                         -0.007515         0.008392   \n",
              "MultipleLines_No phone service            0.007515        -0.008392   \n",
              "MultipleLines_Yes                        -0.008883         0.142996   \n",
              "InternetService_Fiber optic              -0.011189         0.254923   \n",
              "InternetService_No                        0.004745        -0.182519   \n",
              "OnlineSecurity_No internet service        0.004745        -0.182519   \n",
              "OnlineSecurity_Yes                       -0.016328        -0.038576   \n",
              "OnlineBackup_No internet service          0.004745        -0.182519   \n",
              "OnlineBackup_Yes                         -0.013093         0.066663   \n",
              "DeviceProtection_No internet service      0.004745        -0.182519   \n",
              "DeviceProtection_Yes                     -0.000807         0.059514   \n",
              "TechSupport_No internet service           0.004745        -0.182519   \n",
              "TechSupport_Yes                          -0.008507        -0.060577   \n",
              "StreamingTV_No internet service           0.004745        -0.182519   \n",
              "StreamingTV_Yes                          -0.007124         0.105445   \n",
              "StreamingMovies_No internet service       0.004745        -0.182519   \n",
              "StreamingMovies_Yes                      -0.010105         0.119842   \n",
              "Contract_One year                         0.007755        -0.046491   \n",
              "Contract_Two year                        -0.003603        -0.116205   \n",
              "PaperlessBilling_Yes                     -0.011902         0.156258   \n",
              "PaymentMethod_Credit card (automatic)     0.001632        -0.024359   \n",
              "PaymentMethod_Electronic check            0.000844         0.171322   \n",
              "PaymentMethod_Mailed check                0.013199        -0.152987   \n",
              "Churn_Yes                                -0.008545         0.150541   \n",
              "\n",
              "                                       Partner_Yes  Dependents_Yes  \\\n",
              "tenure                                    0.381912        0.163386   \n",
              "MonthlyCharges                            0.097825       -0.112343   \n",
              "TotalCharges                              0.319072        0.064653   \n",
              "gender_Male                              -0.001379        0.010349   \n",
              "SeniorCitizen_1                           0.016957       -0.210550   \n",
              "Partner_Yes                               1.000000        0.452269   \n",
              "Dependents_Yes                            0.452269        1.000000   \n",
              "PhoneService_Yes                          0.018397       -0.001078   \n",
              "MultipleLines_No phone service           -0.018397        0.001078   \n",
              "MultipleLines_Yes                         0.142561       -0.024307   \n",
              "InternetService_Fiber optic               0.001235       -0.164101   \n",
              "InternetService_No                       -0.000286        0.138383   \n",
              "OnlineSecurity_No internet service       -0.000286        0.138383   \n",
              "OnlineSecurity_Yes                        0.143346        0.080786   \n",
              "OnlineBackup_No internet service         -0.000286        0.138383   \n",
              "OnlineBackup_Yes                          0.141849        0.023639   \n",
              "DeviceProtection_No internet service     -0.000286        0.138383   \n",
              "DeviceProtection_Yes                      0.153556        0.013900   \n",
              "TechSupport_No internet service          -0.000286        0.138383   \n",
              "TechSupport_Yes                           0.120206        0.063053   \n",
              "StreamingTV_No internet service          -0.000286        0.138383   \n",
              "StreamingTV_Yes                           0.124483       -0.016499   \n",
              "StreamingMovies_No internet service      -0.000286        0.138383   \n",
              "StreamingMovies_Yes                       0.118108       -0.038375   \n",
              "Contract_One year                         0.083067        0.069222   \n",
              "Contract_Two year                         0.247334        0.201699   \n",
              "PaperlessBilling_Yes                     -0.013957       -0.110131   \n",
              "PaymentMethod_Credit card (automatic)     0.082327        0.061134   \n",
              "PaymentMethod_Electronic check           -0.083207       -0.149274   \n",
              "PaymentMethod_Mailed check               -0.096948        0.056448   \n",
              "Churn_Yes                                -0.149982       -0.163128   \n",
              "\n",
              "                                       PhoneService_Yes  \\\n",
              "tenure                                         0.007877   \n",
              "MonthlyCharges                                 0.248033   \n",
              "TotalCharges                                   0.113008   \n",
              "gender_Male                                   -0.007515   \n",
              "SeniorCitizen_1                                0.008392   \n",
              "Partner_Yes                                    0.018397   \n",
              "Dependents_Yes                                -0.001078   \n",
              "PhoneService_Yes                               1.000000   \n",
              "MultipleLines_No phone service                -1.000000   \n",
              "MultipleLines_Yes                              0.279530   \n",
              "InternetService_Fiber optic                    0.290183   \n",
              "InternetService_No                             0.171817   \n",
              "OnlineSecurity_No internet service             0.171817   \n",
              "OnlineSecurity_Yes                            -0.091676   \n",
              "OnlineBackup_No internet service               0.171817   \n",
              "OnlineBackup_Yes                              -0.052133   \n",
              "DeviceProtection_No internet service           0.171817   \n",
              "DeviceProtection_Yes                          -0.070076   \n",
              "TechSupport_No internet service                0.171817   \n",
              "TechSupport_Yes                               -0.095138   \n",
              "StreamingTV_No internet service                0.171817   \n",
              "StreamingTV_Yes                               -0.021383   \n",
              "StreamingMovies_No internet service            0.171817   \n",
              "StreamingMovies_Yes                           -0.033477   \n",
              "Contract_One year                             -0.003142   \n",
              "Contract_Two year                              0.004442   \n",
              "PaperlessBilling_Yes                           0.016696   \n",
              "PaymentMethod_Credit card (automatic)         -0.006916   \n",
              "PaymentMethod_Electronic check                 0.002747   \n",
              "PaymentMethod_Mailed check                    -0.004463   \n",
              "Churn_Yes                                      0.011691   \n",
              "\n",
              "                                       MultipleLines_No phone service  \\\n",
              "tenure                                                      -0.007877   \n",
              "MonthlyCharges                                              -0.248033   \n",
              "TotalCharges                                                -0.113008   \n",
              "gender_Male                                                  0.007515   \n",
              "SeniorCitizen_1                                             -0.008392   \n",
              "Partner_Yes                                                 -0.018397   \n",
              "Dependents_Yes                                               0.001078   \n",
              "PhoneService_Yes                                            -1.000000   \n",
              "MultipleLines_No phone service                               1.000000   \n",
              "MultipleLines_Yes                                           -0.279530   \n",
              "InternetService_Fiber optic                                 -0.290183   \n",
              "InternetService_No                                          -0.171817   \n",
              "OnlineSecurity_No internet service                          -0.171817   \n",
              "OnlineSecurity_Yes                                           0.091676   \n",
              "OnlineBackup_No internet service                            -0.171817   \n",
              "OnlineBackup_Yes                                             0.052133   \n",
              "DeviceProtection_No internet service                        -0.171817   \n",
              "DeviceProtection_Yes                                         0.070076   \n",
              "TechSupport_No internet service                             -0.171817   \n",
              "TechSupport_Yes                                              0.095138   \n",
              "StreamingTV_No internet service                             -0.171817   \n",
              "StreamingTV_Yes                                              0.021383   \n",
              "StreamingMovies_No internet service                         -0.171817   \n",
              "StreamingMovies_Yes                                          0.033477   \n",
              "Contract_One year                                            0.003142   \n",
              "Contract_Two year                                           -0.004442   \n",
              "PaperlessBilling_Yes                                        -0.016696   \n",
              "PaymentMethod_Credit card (automatic)                        0.006916   \n",
              "PaymentMethod_Electronic check                              -0.002747   \n",
              "PaymentMethod_Mailed check                                   0.004463   \n",
              "Churn_Yes                                                   -0.011691   \n",
              "\n",
              "                                       MultipleLines_Yes  ...  \\\n",
              "tenure                                          0.332399  ...   \n",
              "MonthlyCharges                                  0.490912  ...   \n",
              "TotalCharges                                    0.469042  ...   \n",
              "gender_Male                                    -0.008883  ...   \n",
              "SeniorCitizen_1                                 0.142996  ...   \n",
              "Partner_Yes                                     0.142561  ...   \n",
              "Dependents_Yes                                 -0.024307  ...   \n",
              "PhoneService_Yes                                0.279530  ...   \n",
              "MultipleLines_No phone service                 -0.279530  ...   \n",
              "MultipleLines_Yes                               1.000000  ...   \n",
              "InternetService_Fiber optic                     0.366420  ...   \n",
              "InternetService_No                             -0.210794  ...   \n",
              "OnlineSecurity_No internet service             -0.210794  ...   \n",
              "OnlineSecurity_Yes                              0.098592  ...   \n",
              "OnlineBackup_No internet service               -0.210794  ...   \n",
              "OnlineBackup_Yes                                0.202228  ...   \n",
              "DeviceProtection_No internet service           -0.210794  ...   \n",
              "DeviceProtection_Yes                            0.201733  ...   \n",
              "TechSupport_No internet service                -0.210794  ...   \n",
              "TechSupport_Yes                                 0.100421  ...   \n",
              "StreamingTV_No internet service                -0.210794  ...   \n",
              "StreamingTV_Yes                                 0.257804  ...   \n",
              "StreamingMovies_No internet service            -0.210794  ...   \n",
              "StreamingMovies_Yes                             0.259194  ...   \n",
              "Contract_One year                              -0.003594  ...   \n",
              "Contract_Two year                               0.106618  ...   \n",
              "PaperlessBilling_Yes                            0.163746  ...   \n",
              "PaymentMethod_Credit card (automatic)           0.060319  ...   \n",
              "PaymentMethod_Electronic check                  0.083583  ...   \n",
              "PaymentMethod_Mailed check                     -0.227672  ...   \n",
              "Churn_Yes                                       0.040033  ...   \n",
              "\n",
              "                                       StreamingTV_Yes  \\\n",
              "tenure                                        0.280264   \n",
              "MonthlyCharges                                0.629668   \n",
              "TotalCharges                                  0.515709   \n",
              "gender_Male                                  -0.007124   \n",
              "SeniorCitizen_1                               0.105445   \n",
              "Partner_Yes                                   0.124483   \n",
              "Dependents_Yes                               -0.016499   \n",
              "PhoneService_Yes                             -0.021383   \n",
              "MultipleLines_No phone service                0.021383   \n",
              "MultipleLines_Yes                             0.257804   \n",
              "InternetService_Fiber optic                   0.329744   \n",
              "InternetService_No                           -0.414951   \n",
              "OnlineSecurity_No internet service           -0.414951   \n",
              "OnlineSecurity_Yes                            0.175514   \n",
              "OnlineBackup_No internet service             -0.414951   \n",
              "OnlineBackup_Yes                              0.281601   \n",
              "DeviceProtection_No internet service         -0.414951   \n",
              "DeviceProtection_Yes                          0.389924   \n",
              "TechSupport_No internet service              -0.414951   \n",
              "TechSupport_Yes                               0.277549   \n",
              "StreamingTV_No internet service              -0.414951   \n",
              "StreamingTV_Yes                               1.000000   \n",
              "StreamingMovies_No internet service          -0.414951   \n",
              "StreamingMovies_Yes                           0.533380   \n",
              "Contract_One year                             0.061930   \n",
              "Contract_Two year                             0.072124   \n",
              "PaperlessBilling_Yes                          0.224241   \n",
              "PaymentMethod_Credit card (automatic)         0.040010   \n",
              "PaymentMethod_Electronic check                0.144747   \n",
              "PaymentMethod_Mailed check                   -0.247712   \n",
              "Churn_Yes                                     0.063254   \n",
              "\n",
              "                                       StreamingMovies_No internet service  \\\n",
              "tenure                                                           -0.037529   \n",
              "MonthlyCharges                                                   -0.763191   \n",
              "TotalCharges                                                     -0.374878   \n",
              "gender_Male                                                       0.004745   \n",
              "SeniorCitizen_1                                                  -0.182519   \n",
              "Partner_Yes                                                      -0.000286   \n",
              "Dependents_Yes                                                    0.138383   \n",
              "PhoneService_Yes                                                  0.171817   \n",
              "MultipleLines_No phone service                                   -0.171817   \n",
              "MultipleLines_Yes                                                -0.210794   \n",
              "InternetService_Fiber optic                                      -0.465736   \n",
              "InternetService_No                                                1.000000   \n",
              "OnlineSecurity_No internet service                                1.000000   \n",
              "OnlineSecurity_Yes                                               -0.332799   \n",
              "OnlineBackup_No internet service                                  1.000000   \n",
              "OnlineBackup_Yes                                                 -0.380990   \n",
              "DeviceProtection_No internet service                              1.000000   \n",
              "DeviceProtection_Yes                                             -0.380151   \n",
              "TechSupport_No internet service                                   1.000000   \n",
              "TechSupport_Yes                                                  -0.335695   \n",
              "StreamingTV_No internet service                                   1.000000   \n",
              "StreamingTV_Yes                                                  -0.414951   \n",
              "StreamingMovies_No internet service                               1.000000   \n",
              "StreamingMovies_Yes                                              -0.418450   \n",
              "Contract_One year                                                 0.038061   \n",
              "Contract_Two year                                                 0.217542   \n",
              "PaperlessBilling_Yes                                             -0.320592   \n",
              "PaymentMethod_Credit card (automatic)                             0.001870   \n",
              "PaymentMethod_Electronic check                                   -0.284608   \n",
              "PaymentMethod_Mailed check                                        0.319694   \n",
              "Churn_Yes                                                        -0.227578   \n",
              "\n",
              "                                       StreamingMovies_Yes  Contract_One year  \\\n",
              "tenure                                            0.285402           0.202338   \n",
              "MonthlyCharges                                    0.627235           0.004810   \n",
              "TotalCharges                                      0.519867           0.170569   \n",
              "gender_Male                                      -0.010105           0.007755   \n",
              "SeniorCitizen_1                                   0.119842          -0.046491   \n",
              "Partner_Yes                                       0.118108           0.083067   \n",
              "Dependents_Yes                                   -0.038375           0.069222   \n",
              "PhoneService_Yes                                 -0.033477          -0.003142   \n",
              "MultipleLines_No phone service                    0.033477           0.003142   \n",
              "MultipleLines_Yes                                 0.259194          -0.003594   \n",
              "InternetService_Fiber optic                       0.322457          -0.076809   \n",
              "InternetService_No                               -0.418450           0.038061   \n",
              "OnlineSecurity_No internet service               -0.418450           0.038061   \n",
              "OnlineSecurity_Yes                                0.187426           0.100658   \n",
              "OnlineBackup_No internet service                 -0.418450           0.038061   \n",
              "OnlineBackup_Yes                                  0.274523           0.084113   \n",
              "DeviceProtection_No internet service             -0.418450           0.038061   \n",
              "DeviceProtection_Yes                              0.402309           0.102911   \n",
              "TechSupport_No internet service                  -0.418450           0.038061   \n",
              "TechSupport_Yes                                   0.280155           0.096258   \n",
              "StreamingTV_No internet service                  -0.418450           0.038061   \n",
              "StreamingTV_Yes                                   0.533380           0.061930   \n",
              "StreamingMovies_No internet service              -0.418450           0.038061   \n",
              "StreamingMovies_Yes                               1.000000           0.064780   \n",
              "Contract_One year                                 0.064780           1.000000   \n",
              "Contract_Two year                                 0.075603          -0.288843   \n",
              "PaperlessBilling_Yes                              0.211583          -0.052278   \n",
              "PaymentMethod_Credit card (automatic)             0.048398           0.067590   \n",
              "PaymentMethod_Electronic check                    0.137420          -0.109546   \n",
              "PaymentMethod_Mailed check                       -0.250290           0.000197   \n",
              "Churn_Yes                                         0.060860          -0.178225   \n",
              "\n",
              "                                       Contract_Two year  \\\n",
              "tenure                                          0.563801   \n",
              "MonthlyCharges                                 -0.073256   \n",
              "TotalCharges                                    0.358036   \n",
              "gender_Male                                    -0.003603   \n",
              "SeniorCitizen_1                                -0.116205   \n",
              "Partner_Yes                                     0.247334   \n",
              "Dependents_Yes                                  0.201699   \n",
              "PhoneService_Yes                                0.004442   \n",
              "MultipleLines_No phone service                 -0.004442   \n",
              "MultipleLines_Yes                               0.106618   \n",
              "InternetService_Fiber optic                    -0.209965   \n",
              "InternetService_No                              0.217542   \n",
              "OnlineSecurity_No internet service              0.217542   \n",
              "OnlineSecurity_Yes                              0.191698   \n",
              "OnlineBackup_No internet service                0.217542   \n",
              "OnlineBackup_Yes                                0.111391   \n",
              "DeviceProtection_No internet service            0.217542   \n",
              "DeviceProtection_Yes                            0.165248   \n",
              "TechSupport_No internet service                 0.217542   \n",
              "TechSupport_Yes                                 0.240924   \n",
              "StreamingTV_No internet service                 0.217542   \n",
              "StreamingTV_Yes                                 0.072124   \n",
              "StreamingMovies_No internet service             0.217542   \n",
              "StreamingMovies_Yes                             0.075603   \n",
              "Contract_One year                              -0.288843   \n",
              "Contract_Two year                               1.000000   \n",
              "PaperlessBilling_Yes                           -0.146281   \n",
              "PaymentMethod_Credit card (automatic)           0.174410   \n",
              "PaymentMethod_Electronic check                 -0.281147   \n",
              "PaymentMethod_Mailed check                     -0.007423   \n",
              "Churn_Yes                                      -0.301552   \n",
              "\n",
              "                                       PaperlessBilling_Yes  \\\n",
              "tenure                                             0.004823   \n",
              "MonthlyCharges                                     0.351930   \n",
              "TotalCharges                                       0.157830   \n",
              "gender_Male                                       -0.011902   \n",
              "SeniorCitizen_1                                    0.156258   \n",
              "Partner_Yes                                       -0.013957   \n",
              "Dependents_Yes                                    -0.110131   \n",
              "PhoneService_Yes                                   0.016696   \n",
              "MultipleLines_No phone service                    -0.016696   \n",
              "MultipleLines_Yes                                  0.163746   \n",
              "InternetService_Fiber optic                        0.326470   \n",
              "InternetService_No                                -0.320592   \n",
              "OnlineSecurity_No internet service                -0.320592   \n",
              "OnlineSecurity_Yes                                -0.004051   \n",
              "OnlineBackup_No internet service                  -0.320592   \n",
              "OnlineBackup_Yes                                   0.127056   \n",
              "DeviceProtection_No internet service              -0.320592   \n",
              "DeviceProtection_Yes                               0.104079   \n",
              "TechSupport_No internet service                   -0.320592   \n",
              "TechSupport_Yes                                    0.037536   \n",
              "StreamingTV_No internet service                   -0.320592   \n",
              "StreamingTV_Yes                                    0.224241   \n",
              "StreamingMovies_No internet service               -0.320592   \n",
              "StreamingMovies_Yes                                0.211583   \n",
              "Contract_One year                                 -0.052278   \n",
              "Contract_Two year                                 -0.146281   \n",
              "PaperlessBilling_Yes                               1.000000   \n",
              "PaymentMethod_Credit card (automatic)             -0.013726   \n",
              "PaymentMethod_Electronic check                     0.208427   \n",
              "PaymentMethod_Mailed check                        -0.203981   \n",
              "Churn_Yes                                          0.191454   \n",
              "\n",
              "                                       PaymentMethod_Credit card (automatic)  \\\n",
              "tenure                                                              0.232800   \n",
              "MonthlyCharges                                                      0.030055   \n",
              "TotalCharges                                                        0.182663   \n",
              "gender_Male                                                         0.001632   \n",
              "SeniorCitizen_1                                                    -0.024359   \n",
              "Partner_Yes                                                         0.082327   \n",
              "Dependents_Yes                                                      0.061134   \n",
              "PhoneService_Yes                                                   -0.006916   \n",
              "MultipleLines_No phone service                                      0.006916   \n",
              "MultipleLines_Yes                                                   0.060319   \n",
              "InternetService_Fiber optic                                        -0.050552   \n",
              "InternetService_No                                                  0.001870   \n",
              "OnlineSecurity_No internet service                                  0.001870   \n",
              "OnlineSecurity_Yes                                                  0.115473   \n",
              "OnlineBackup_No internet service                                    0.001870   \n",
              "OnlineBackup_Yes                                                    0.090455   \n",
              "DeviceProtection_No internet service                                0.001870   \n",
              "DeviceProtection_Yes                                                0.111252   \n",
              "TechSupport_No internet service                                     0.001870   \n",
              "TechSupport_Yes                                                     0.117024   \n",
              "StreamingTV_No internet service                                     0.001870   \n",
              "StreamingTV_Yes                                                     0.040010   \n",
              "StreamingMovies_No internet service                                 0.001870   \n",
              "StreamingMovies_Yes                                                 0.048398   \n",
              "Contract_One year                                                   0.067590   \n",
              "Contract_Two year                                                   0.174410   \n",
              "PaperlessBilling_Yes                                               -0.013726   \n",
              "PaymentMethod_Credit card (automatic)                               1.000000   \n",
              "PaymentMethod_Electronic check                                     -0.373978   \n",
              "PaymentMethod_Mailed check                                         -0.285583   \n",
              "Churn_Yes                                                          -0.134687   \n",
              "\n",
              "                                       PaymentMethod_Electronic check  \\\n",
              "tenure                                                      -0.210197   \n",
              "MonthlyCharges                                               0.271117   \n",
              "TotalCharges                                                -0.060436   \n",
              "gender_Male                                                  0.000844   \n",
              "SeniorCitizen_1                                              0.171322   \n",
              "Partner_Yes                                                 -0.083207   \n",
              "Dependents_Yes                                              -0.149274   \n",
              "PhoneService_Yes                                             0.002747   \n",
              "MultipleLines_No phone service                              -0.002747   \n",
              "MultipleLines_Yes                                            0.083583   \n",
              "InternetService_Fiber optic                                  0.335763   \n",
              "InternetService_No                                          -0.284608   \n",
              "OnlineSecurity_No internet service                          -0.284608   \n",
              "OnlineSecurity_Yes                                          -0.112295   \n",
              "OnlineBackup_No internet service                            -0.284608   \n",
              "OnlineBackup_Yes                                            -0.000364   \n",
              "DeviceProtection_No internet service                        -0.284608   \n",
              "DeviceProtection_Yes                                        -0.003308   \n",
              "TechSupport_No internet service                             -0.284608   \n",
              "TechSupport_Yes                                             -0.114807   \n",
              "StreamingTV_No internet service                             -0.284608   \n",
              "StreamingTV_Yes                                              0.144747   \n",
              "StreamingMovies_No internet service                         -0.284608   \n",
              "StreamingMovies_Yes                                          0.137420   \n",
              "Contract_One year                                           -0.109546   \n",
              "Contract_Two year                                           -0.281147   \n",
              "PaperlessBilling_Yes                                         0.208427   \n",
              "PaymentMethod_Credit card (automatic)                       -0.373978   \n",
              "PaymentMethod_Electronic check                               1.000000   \n",
              "PaymentMethod_Mailed check                                  -0.386971   \n",
              "Churn_Yes                                                    0.301455   \n",
              "\n",
              "                                       PaymentMethod_Mailed check  Churn_Yes  \n",
              "tenure                                                  -0.232181  -0.354049  \n",
              "MonthlyCharges                                          -0.376568   0.192858  \n",
              "TotalCharges                                            -0.294708  -0.199484  \n",
              "gender_Male                                              0.013199  -0.008545  \n",
              "SeniorCitizen_1                                         -0.152987   0.150541  \n",
              "Partner_Yes                                             -0.096948  -0.149982  \n",
              "Dependents_Yes                                           0.056448  -0.163128  \n",
              "PhoneService_Yes                                        -0.004463   0.011691  \n",
              "MultipleLines_No phone service                           0.004463  -0.011691  \n",
              "MultipleLines_Yes                                       -0.227672   0.040033  \n",
              "InternetService_Fiber optic                             -0.305984   0.307463  \n",
              "InternetService_No                                       0.319694  -0.227578  \n",
              "OnlineSecurity_No internet service                       0.319694  -0.227578  \n",
              "OnlineSecurity_Yes                                      -0.079918  -0.171270  \n",
              "OnlineBackup_No internet service                         0.319694  -0.227578  \n",
              "OnlineBackup_Yes                                        -0.174075  -0.082307  \n",
              "DeviceProtection_No internet service                     0.319694  -0.227578  \n",
              "DeviceProtection_Yes                                    -0.187325  -0.066193  \n",
              "TechSupport_No internet service                          0.319694  -0.227578  \n",
              "TechSupport_Yes                                         -0.084631  -0.164716  \n",
              "StreamingTV_No internet service                          0.319694  -0.227578  \n",
              "StreamingTV_Yes                                         -0.247712   0.063254  \n",
              "StreamingMovies_No internet service                      0.319694  -0.227578  \n",
              "StreamingMovies_Yes                                     -0.250290   0.060860  \n",
              "Contract_One year                                        0.000197  -0.178225  \n",
              "Contract_Two year                                       -0.007423  -0.301552  \n",
              "PaperlessBilling_Yes                                    -0.203981   0.191454  \n",
              "PaymentMethod_Credit card (automatic)                   -0.285583  -0.134687  \n",
              "PaymentMethod_Electronic check                          -0.386971   0.301455  \n",
              "PaymentMethod_Mailed check                               1.000000  -0.090773  \n",
              "Churn_Yes                                               -0.090773   1.000000  \n",
              "\n",
              "[31 rows x 31 columns]"
            ]
          },
          "metadata": {
            "tags": []
          },
          "execution_count": 19
        }
      ]
    },
    {
      "cell_type": "markdown",
      "metadata": {
        "id": "eKAGV0z_ends"
      },
      "source": [
        "# Apply SelectKBest to reduce the number of Features"
      ]
    },
    {
      "cell_type": "code",
      "metadata": {
        "id": "T-wivhbqendt",
        "outputId": "4594d16a-d0d3-432d-8b04-59c39018b29c"
      },
      "source": [
        "from sklearn.feature_selection import SelectKBest, chi2\n",
        "\n",
        "#check current shape of the Feature dataframe\n",
        "X.shape"
      ],
      "execution_count": null,
      "outputs": [
        {
          "output_type": "execute_result",
          "data": {
            "text/plain": [
              "(7032, 30)"
            ]
          },
          "metadata": {
            "tags": []
          },
          "execution_count": 20
        }
      ]
    },
    {
      "cell_type": "code",
      "metadata": {
        "id": "iRLUDN0hendw",
        "outputId": "e43cd7f3-3b3c-4c01-f887-d9970f9e1965"
      },
      "source": [
        "#keep the best 15 Features, drop the rest\n",
        "X_15 = SelectKBest(chi2, k=15).fit_transform(X,y)\n",
        "\n",
        "#confirm the new shape of the Feature dataframe\n",
        "X_15.shape"
      ],
      "execution_count": null,
      "outputs": [
        {
          "output_type": "execute_result",
          "data": {
            "text/plain": [
              "(7032, 15)"
            ]
          },
          "metadata": {
            "tags": []
          },
          "execution_count": 21
        }
      ]
    },
    {
      "cell_type": "markdown",
      "metadata": {
        "id": "5w3qcEK-end0"
      },
      "source": [
        "# Split the Data into Train and Test sets"
      ]
    },
    {
      "cell_type": "code",
      "metadata": {
        "id": "FrCHsgJfend0"
      },
      "source": [
        "#Split the data into train and test sets, keeping 30% of the records in the test set\n",
        "X_train,X_test,y_train,y_test = train_test_split(X_15,y,test_size=.3)"
      ],
      "execution_count": null,
      "outputs": []
    },
    {
      "cell_type": "code",
      "metadata": {
        "id": "a-pNB9EYend3"
      },
      "source": [
        "from sklearn.model_selection import cross_val_score\n",
        "from sklearn.metrics import  classification_report, confusion_matrix\n",
        "import itertools\n",
        "\n",
        "#Create function to get cv score for each model\n",
        "def get_cv_score(model):\n",
        "    cv_scores = cross_val_score(model, X_15, y, cv=5)\n",
        "    print(f'Cross Validation Scores: {cv_scores}')\n",
        "    print(f'Mean CV Score: {np.mean(cv_scores)}')\n",
        "\n",
        "#Create function to plot a confusion matrix for each model\n",
        "plt.style.use('default')\n",
        "\n",
        "def plot_confusion_matrix(cm, classes,normalize,\n",
        "                          title='Confusion matrix',\n",
        "                          cmap=plt.cm.Blues):\n",
        "    \"\"\"\n",
        "    This function prints and plots the confusion matrix.\n",
        "    Normalization can be applied by setting `normalize=True`.\n",
        "    \"\"\"\n",
        "    if normalize:\n",
        "        cm = cm.astype('float') / cm.sum(axis=1)[:, np.newaxis]\n",
        "        print(\"Normalized confusion matrix\")\n",
        "    else:\n",
        "        print('Confusion matrix, without normalization')\n",
        "\n",
        "    plt.imshow(cm, interpolation='nearest', cmap=cmap)\n",
        "    plt.title(title)\n",
        "    plt.colorbar()\n",
        "    tick_marks = np.arange(len(classes))\n",
        "    plt.xticks(tick_marks, classes)\n",
        "    plt.yticks(tick_marks, classes)\n",
        "    fmt = '.2f' if normalize else 'd'\n",
        "    thresh = cm.max() / 2.\n",
        "    for i, j in itertools.product(range(cm.shape[0]), range(cm.shape[1])):\n",
        "        plt.text(j, i, format(cm[i, j], fmt),\n",
        "                 horizontalalignment=\"center\", verticalalignment=\"center\",\n",
        "                 color=\"white\" if cm[i, j] > thresh else \"black\")\n",
        "    plt.ylabel('True label')\n",
        "    plt.xlabel('Predicted label')"
      ],
      "execution_count": null,
      "outputs": []
    },
    {
      "cell_type": "markdown",
      "metadata": {
        "id": "U1883CqWend6"
      },
      "source": [
        "# Run a Dummy Classifier to establish a baseline accuracy score"
      ]
    },
    {
      "cell_type": "code",
      "metadata": {
        "id": "TIYdxQPzend7",
        "outputId": "6c5626ee-4ad6-464f-a35f-cfffb18aa453"
      },
      "source": [
        "from sklearn.dummy import DummyClassifier\n",
        "dummy = DummyClassifier(strategy = 'most_frequent').fit(X_train,y_train)\n",
        "y_pred = dummy.predict(X_test)\n",
        "dummy.score(X_test,y_test)"
      ],
      "execution_count": null,
      "outputs": [
        {
          "output_type": "execute_result",
          "data": {
            "text/plain": [
              "0.7421800947867299"
            ]
          },
          "metadata": {
            "tags": []
          },
          "execution_count": 88
        }
      ]
    },
    {
      "cell_type": "code",
      "metadata": {
        "id": "vToTsDCyend_",
        "outputId": "53c56351-0507-4442-fb2e-cbf1f2c01b9b"
      },
      "source": [
        "#Calculate the dummy predictions and print a confusion matrix\n",
        "y_pred = dummy.predict(X_test)\n",
        "cm = confusion_matrix(y_test, y_pred)\n",
        "plot_confusion_matrix(cm,[0,1],False)"
      ],
      "execution_count": null,
      "outputs": [
        {
          "output_type": "stream",
          "text": [
            "Confusion matrix, without normalization\n"
          ],
          "name": "stdout"
        },
        {
          "output_type": "display_data",
          "data": {
            "image/png": "[encoded data removed]",
            "text/plain": [
              "<Figure size 640x480 with 2 Axes>"
            ]
          },
          "metadata": {
            "tags": []
          }
        }
      ]
    },
    {
      "cell_type": "code",
      "metadata": {
        "id": "cTelpH4VeneC",
        "outputId": "ad0266f0-a712-4a1a-d63e-4475d61696ee"
      },
      "source": [
        "#Print the classification report\n",
        "classif_report = classification_report(y_test,y_pred,)\n",
        "print(classif_report)"
      ],
      "execution_count": null,
      "outputs": [
        {
          "output_type": "stream",
          "text": [
            "              precision    recall  f1-score   support\n",
            "\n",
            "           0       0.74      1.00      0.85      1566\n",
            "           1       0.00      0.00      0.00       544\n",
            "\n",
            "    accuracy                           0.74      2110\n",
            "   macro avg       0.37      0.50      0.43      2110\n",
            "weighted avg       0.55      0.74      0.63      2110\n",
            "\n"
          ],
          "name": "stdout"
        },
        {
          "output_type": "stream",
          "text": [
            "/Users/grahamriley/opt/anaconda3/lib/python3.7/site-packages/sklearn/metrics/_classification.py:1272: UndefinedMetricWarning: Precision and F-score are ill-defined and being set to 0.0 in labels with no predicted samples. Use `zero_division` parameter to control this behavior.\n",
            "  _warn_prf(average, modifier, msg_start, len(result))\n"
          ],
          "name": "stderr"
        }
      ]
    },
    {
      "cell_type": "markdown",
      "metadata": {
        "id": "O4N28PsBeneF"
      },
      "source": [
        "Nearly 75% of the target is Negative, so I expect each of my models to outperform this Dummy Classifier and have an accuracy score greater than 75%"
      ]
    },
    {
      "cell_type": "markdown",
      "metadata": {
        "id": "ZJZusUX0eneF"
      },
      "source": [
        "# Run a Decision Tree model using Grid Search Cross Validation to tune the hyperparameters"
      ]
    },
    {
      "cell_type": "code",
      "metadata": {
        "id": "vR1zdElfeneG",
        "outputId": "820392a1-5a72-42d6-e61e-034844de37d5"
      },
      "source": [
        "from sklearn.model_selection import GridSearchCV\n",
        "from sklearn.tree import DecisionTreeClassifier\n",
        "import time\n",
        "start_time = time.time()\n",
        "\n",
        "#set the parameters to use in the GridSearchCV\n",
        "params = {\n",
        "    'max_depth': [2,5,10,20,None],\n",
        "    'splitter': ['best','random'],\n",
        "    'min_samples_split':[2,5,10],\n",
        "    'min_samples_leaf':[1,5,10],\n",
        "    'max_features': [2,5,10,15,None]    \n",
        "}\n",
        "\n",
        "#create the GridSearchCV optimizer for the Decision Tree Classifier\n",
        "clf = GridSearchCV(DecisionTreeClassifier(), params, cv=5)\n",
        "\n",
        "#fit to the data\n",
        "clf.fit(X_15,y)\n",
        "\n",
        "print(\"runtime:%s seconds\" % (time.time() - start_time))"
      ],
      "execution_count": null,
      "outputs": [
        {
          "output_type": "stream",
          "text": [
            "runtime:28.69597315788269 seconds\n"
          ],
          "name": "stdout"
        }
      ]
    },
    {
      "cell_type": "code",
      "metadata": {
        "id": "a6Dc1nbheneI",
        "outputId": "8ed48dc5-2709-4b66-e7da-e25d52e43c2c"
      },
      "source": [
        "#print the best parameters and score from the GridSearchCV optimizer for the Decision Tree Classifier\n",
        "print(f'Best Parameters: {clf.best_params_}')\n",
        "print(f'Best Score: {clf.best_score_}')"
      ],
      "execution_count": null,
      "outputs": [
        {
          "output_type": "stream",
          "text": [
            "Best Parameters: {'max_depth': 10, 'max_features': 15, 'min_samples_leaf': 10, 'min_samples_split': 5, 'splitter': 'random'}\n",
            "Best Score: 0.7955052010825774\n"
          ],
          "name": "stdout"
        }
      ]
    },
    {
      "cell_type": "code",
      "metadata": {
        "id": "LtR8kEfSeneL",
        "outputId": "7425f73c-46f1-4343-b804-6e6815c783bd"
      },
      "source": [
        "start_time = time.time()\n",
        "\n",
        "#Run the Decision Tree Classifier using the optimal parameters and fit to the data\n",
        "dec_tree = DecisionTreeClassifier(max_depth = 10, max_features = 15, min_samples_leaf = 10, min_samples_split = 5, splitter = 'random')\n",
        "dec_tree.fit(X_train,y_train)\n",
        "\n",
        "#Get the cross_validation scores\n",
        "get_cv_score(dec_tree)\n",
        "\n",
        "print(\"runtime:%s seconds\" % (time.time() - start_time))"
      ],
      "execution_count": null,
      "outputs": [
        {
          "output_type": "stream",
          "text": [
            "Cross Validation Scores: [0.79459844 0.79033404 0.77667141 0.79800853 0.79943101]\n",
            "Mean CV Score: 0.791808686702638\n",
            "runtime:0.20396184921264648 seconds\n"
          ],
          "name": "stdout"
        }
      ]
    },
    {
      "cell_type": "code",
      "metadata": {
        "id": "l-dVBkAgeneN",
        "outputId": "a6de0d30-fb94-4742-844d-c483cf230361"
      },
      "source": [
        "#Calculate the Decision Tree predictions and print a confusion matrix\n",
        "y_pred = dec_tree.predict(X_test)\n",
        "cm = confusion_matrix(y_test, y_pred)\n",
        "plot_confusion_matrix(cm,[0,1],False)"
      ],
      "execution_count": null,
      "outputs": [
        {
          "output_type": "stream",
          "text": [
            "Confusion matrix, without normalization\n"
          ],
          "name": "stdout"
        },
        {
          "output_type": "display_data",
          "data": {
            "image/png": "[encoded data removed]",
            "text/plain": [
              "<Figure size 640x480 with 2 Axes>"
            ]
          },
          "metadata": {
            "tags": []
          }
        }
      ]
    },
    {
      "cell_type": "code",
      "metadata": {
        "id": "-qZdLuCqeneP",
        "outputId": "c8cb31b7-55c3-4cea-f288-6c986150cbf4"
      },
      "source": [
        "#Print the classification report\n",
        "classif_report = classification_report(y_test,y_pred,)\n",
        "print(classif_report)"
      ],
      "execution_count": null,
      "outputs": [
        {
          "output_type": "stream",
          "text": [
            "              precision    recall  f1-score   support\n",
            "\n",
            "           0       0.84      0.88      0.86      1590\n",
            "           1       0.58      0.50      0.53       520\n",
            "\n",
            "    accuracy                           0.79      2110\n",
            "   macro avg       0.71      0.69      0.70      2110\n",
            "weighted avg       0.78      0.79      0.78      2110\n",
            "\n"
          ],
          "name": "stdout"
        }
      ]
    },
    {
      "cell_type": "markdown",
      "metadata": {
        "id": "lfUvYq0AeneS"
      },
      "source": [
        "# Run a Random Forest Model using Grid Search Cross Validation to tune the hyperparameters"
      ]
    },
    {
      "cell_type": "code",
      "metadata": {
        "id": "6D5dfzkZeneT",
        "outputId": "17c99f5c-0796-4500-9ef8-4d2db862132f"
      },
      "source": [
        "from sklearn.ensemble import RandomForestClassifier\n",
        "start_time = time.time()\n",
        "\n",
        "#set the parameters to use in the GridSearchCV\n",
        "params = {\n",
        "    'n_estimators': [100,500,1000],\n",
        "    'max_depth': [None,5,10,20,100],\n",
        "    'max_features': ['auto','log2',None]\n",
        "}\n",
        "\n",
        "#create the GridSearchCV optimizer for the Random Forest Classifier\n",
        "clf = GridSearchCV(RandomForestClassifier(), params, cv=5)\n",
        "\n",
        "#fit to the data\n",
        "clf.fit(X_15,y)\n",
        "\n",
        "print(\"runtime:%s seconds\" % (time.time() - start_time))"
      ],
      "execution_count": null,
      "outputs": [
        {
          "output_type": "stream",
          "text": [
            "runtime:1784.2964489459991 seconds\n"
          ],
          "name": "stdout"
        }
      ]
    },
    {
      "cell_type": "code",
      "metadata": {
        "id": "KWjw5KYOeneW",
        "outputId": "b1ea6fd6-5153-48dd-f6a0-bc91fd479712"
      },
      "source": [
        "#print the best parameters and score from the GridSearchCV optimizer\n",
        "print(f'Best Parameters: {clf.best_params_}')\n",
        "print(f'Best Score: {clf.best_score_}')"
      ],
      "execution_count": null,
      "outputs": [
        {
          "output_type": "stream",
          "text": [
            "Best Parameters: {'max_depth': 5, 'max_features': None, 'n_estimators': 1000}\n",
            "Best Score: 0.7964997204588721\n"
          ],
          "name": "stdout"
        }
      ]
    },
    {
      "cell_type": "code",
      "metadata": {
        "id": "TSmTsm2ceneY",
        "outputId": "932364f8-0c32-42fd-df7f-9eb3f61a8853"
      },
      "source": [
        "start_time = time.time()\n",
        "\n",
        "#Run the Random Forest Classifier using the optimal parameters and fit to the data\n",
        "rf = RandomForestClassifier(n_estimators = 1000, max_depth = 5, max_features = None)\n",
        "rf.fit(X_train,y_train)\n",
        "\n",
        "#Get the cross_validation scores\n",
        "get_cv_score(rf)\n",
        "\n",
        "print(\"runtime:%s seconds\" % (time.time() - start_time))"
      ],
      "execution_count": null,
      "outputs": [
        {
          "output_type": "stream",
          "text": [
            "Cross Validation Scores: [0.81094527 0.79673063 0.77809388 0.8029872  0.79302987]\n",
            "Mean CV Score: 0.796357371848338\n",
            "runtime:57.710777759552 seconds\n"
          ],
          "name": "stdout"
        }
      ]
    },
    {
      "cell_type": "code",
      "metadata": {
        "id": "UY35cjXAenea",
        "outputId": "c0e88c49-6cc4-414b-a0a1-06ae973cc005"
      },
      "source": [
        "#Calculate the Random Forest predictions and print a confusion matrix\n",
        "y_pred = rf.predict(X_test)\n",
        "cm = confusion_matrix(y_test, y_pred)\n",
        "plot_confusion_matrix(cm,[0,1],False)"
      ],
      "execution_count": null,
      "outputs": [
        {
          "output_type": "stream",
          "text": [
            "Confusion matrix, without normalization\n"
          ],
          "name": "stdout"
        },
        {
          "output_type": "display_data",
          "data": {
            "image/png": "[encoded data removed]",
            "text/plain": [
              "<Figure size 640x480 with 2 Axes>"
            ]
          },
          "metadata": {
            "tags": []
          }
        }
      ]
    },
    {
      "cell_type": "code",
      "metadata": {
        "id": "98RXAJtJenec",
        "outputId": "29207dce-7fa2-4166-9bb4-bf0f898ca220"
      },
      "source": [
        "#Print the classification report\n",
        "classif_report = classification_report(y_test,y_pred,)\n",
        "print(classif_report)"
      ],
      "execution_count": null,
      "outputs": [
        {
          "output_type": "stream",
          "text": [
            "              precision    recall  f1-score   support\n",
            "\n",
            "           0       0.85      0.90      0.87      1590\n",
            "           1       0.62      0.50      0.55       520\n",
            "\n",
            "    accuracy                           0.80      2110\n",
            "   macro avg       0.73      0.70      0.71      2110\n",
            "weighted avg       0.79      0.80      0.79      2110\n",
            "\n"
          ],
          "name": "stdout"
        }
      ]
    },
    {
      "cell_type": "markdown",
      "metadata": {
        "id": "g3bIfzS_enef"
      },
      "source": [
        "# Run a K-Nearest Neighbors Model using Grid Search Cross Validation to tune the hyperparameters"
      ]
    },
    {
      "cell_type": "code",
      "metadata": {
        "id": "KTu6eTU6enef",
        "outputId": "074c0e3d-c6e8-4472-e8f2-b4f3fc0a6567"
      },
      "source": [
        "from sklearn.neighbors import KNeighborsClassifier\n",
        "start_time = time.time()\n",
        "\n",
        "#set the parameters to use in the GridSearchCV\n",
        "params = {\n",
        "    'n_neighbors': np.arange(13,35,2),\n",
        "    'p': [1,2]\n",
        "}\n",
        "\n",
        "#create the GridSearchCV optimizer for the K Nearest Neighbors Classifier\n",
        "clf = GridSearchCV(KNeighborsClassifier(), params, cv=5)\n",
        "\n",
        "#fit to the data\n",
        "clf.fit(X_15,y)\n",
        "\n",
        "print(\"runtime:%s seconds\" % (time.time() - start_time))"
      ],
      "execution_count": null,
      "outputs": [
        {
          "output_type": "stream",
          "text": [
            "runtime:8.381685972213745 seconds\n"
          ],
          "name": "stdout"
        }
      ]
    },
    {
      "cell_type": "code",
      "metadata": {
        "id": "57Y6DKOIenem",
        "outputId": "1b7f95d5-47c1-4927-f76c-26d76ddefbd9"
      },
      "source": [
        "#print the best parameters and score from the GridSearchCV optimizer\n",
        "print(f'Best Parameters: {clf.best_params_}')\n",
        "print(f'Best Score: {clf.best_score_}')"
      ],
      "execution_count": null,
      "outputs": [
        {
          "output_type": "stream",
          "text": [
            "Best Parameters: {'n_neighbors': 29, 'p': 1}\n",
            "Best Score: 0.7862626513844109\n"
          ],
          "name": "stdout"
        }
      ]
    },
    {
      "cell_type": "code",
      "metadata": {
        "id": "N8d8Xc4Uener",
        "outputId": "f356176e-fa33-4d36-a5dd-7e8767436e56"
      },
      "source": [
        "start_time = time.time()\n",
        "\n",
        "#Run the K Nearest Neighbors classifier using the optimal parameters and fit to the data\n",
        "knn = KNeighborsClassifier(n_neighbors = 29, p = 1)\n",
        "knn.fit(X_train,y_train)\n",
        "\n",
        "#Get the cross_validation scores\n",
        "get_cv_score(knn)\n",
        "\n",
        "print(\"runtime:%s seconds\" % (time.time() - start_time))"
      ],
      "execution_count": null,
      "outputs": [
        {
          "output_type": "stream",
          "text": [
            "Cross Validation Scores: [0.78393746 0.78962331 0.78449502 0.7859175  0.78733997]\n",
            "Mean CV Score: 0.7862626513844109\n",
            "runtime:0.6386239528656006 seconds\n"
          ],
          "name": "stdout"
        }
      ]
    },
    {
      "cell_type": "code",
      "metadata": {
        "id": "jOXIK2nMeneu",
        "outputId": "876b3760-7412-4c12-eb35-54ae5e7cd23d"
      },
      "source": [
        "#Calculate the K Nearest Neighbors predictions and print a confusion matrix\n",
        "y_pred = knn.predict(X_test)\n",
        "cm = confusion_matrix(y_test, y_pred)\n",
        "plot_confusion_matrix(cm,[0,1],False)"
      ],
      "execution_count": null,
      "outputs": [
        {
          "output_type": "stream",
          "text": [
            "Confusion matrix, without normalization\n"
          ],
          "name": "stdout"
        },
        {
          "output_type": "display_data",
          "data": {
            "image/png": "[encoded data removed]",
            "text/plain": [
              "<Figure size 640x480 with 2 Axes>"
            ]
          },
          "metadata": {
            "tags": []
          }
        }
      ]
    },
    {
      "cell_type": "code",
      "metadata": {
        "id": "eYFDKBhxenex",
        "outputId": "05af8724-6a40-4ff7-963d-e17c67102e71"
      },
      "source": [
        "#Print the classification report\n",
        "classif_report = classification_report(y_test,y_pred)\n",
        "print(classif_report)"
      ],
      "execution_count": null,
      "outputs": [
        {
          "output_type": "stream",
          "text": [
            "              precision    recall  f1-score   support\n",
            "\n",
            "           0       0.83      0.92      0.87      1590\n",
            "           1       0.63      0.44      0.52       520\n",
            "\n",
            "    accuracy                           0.80      2110\n",
            "   macro avg       0.73      0.68      0.70      2110\n",
            "weighted avg       0.78      0.80      0.79      2110\n",
            "\n"
          ],
          "name": "stdout"
        }
      ]
    },
    {
      "cell_type": "markdown",
      "metadata": {
        "id": "FXDnQHOeene0"
      },
      "source": [
        "# Run a Gradient Boosting Model using Grid Search Cross Validation to tune the hyperparameters"
      ]
    },
    {
      "cell_type": "code",
      "metadata": {
        "id": "NoT9-dshene1",
        "outputId": "ac591eb8-b88f-4bad-c974-fd3944b32888"
      },
      "source": [
        "from sklearn.ensemble import GradientBoostingClassifier\n",
        "start_time = time.time()\n",
        "\n",
        "#set the parameters to use in the GridSearchCV\n",
        "params = {\n",
        "    'learning_rate': [.05,.1,.5],\n",
        "    'n_estimators': [50,100,500],\n",
        "    'max_depth': [None,3,10],\n",
        "    'max_features': [None,'auto']\n",
        "}\n",
        "\n",
        "#create the GridSearchCV optimizer for the Gradient Boosting Classifier\n",
        "clf = GridSearchCV(GradientBoostingClassifier(), params, cv=5)\n",
        "\n",
        "#fit to the data\n",
        "clf.fit(X_15,y)\n",
        "\n",
        "print(\"runtime:%s seconds\" % (time.time() - start_time))"
      ],
      "execution_count": null,
      "outputs": [
        {
          "output_type": "stream",
          "text": [
            "runtime:7756.434002399445 seconds\n"
          ],
          "name": "stdout"
        }
      ]
    },
    {
      "cell_type": "code",
      "metadata": {
        "id": "oG3eeAQrene3",
        "outputId": "08da054e-5f57-40c5-95d7-df1a3907efa4"
      },
      "source": [
        "#print the best parameters and score from the GridSearchCV optimizer\n",
        "print(f'Best Parameters: {clf.best_params_}')\n",
        "print(f'Best Score: {clf.best_score_}')"
      ],
      "execution_count": null,
      "outputs": [
        {
          "output_type": "stream",
          "text": [
            "Best Parameters: {'learning_rate': 0.05, 'max_depth': 3, 'max_features': None, 'n_estimators': 100}\n",
            "Best Score: 0.7987752762301074\n"
          ],
          "name": "stdout"
        }
      ]
    },
    {
      "cell_type": "code",
      "metadata": {
        "id": "5VPNb2zzene6",
        "outputId": "14c95e59-de0c-4513-aade-4981ecf32a1c"
      },
      "source": [
        "start_time = time.time()\n",
        "\n",
        "#Run the Gradient Boosting Classifier using the optimal parameters and fit to the data\n",
        "boost = GradientBoostingClassifier(n_estimators = 100, learning_rate = .05, max_depth = 3, max_features = None)\n",
        "boost.fit(X_train,y_train)\n",
        "\n",
        "#Get the cross_validation scores\n",
        "get_cv_score(boost)\n",
        "\n",
        "print(\"runtime:%s seconds\" % (time.time() - start_time))"
      ],
      "execution_count": null,
      "outputs": [
        {
          "output_type": "stream",
          "text": [
            "Cross Validation Scores: [0.81449893 0.79530917 0.78165007 0.80227596 0.80014225]\n",
            "Mean CV Score: 0.7987752762301074\n",
            "runtime:5.0031068325042725 seconds\n"
          ],
          "name": "stdout"
        }
      ]
    },
    {
      "cell_type": "code",
      "metadata": {
        "id": "Iz4E-WKxene8",
        "outputId": "40e94efd-cbca-4b8c-c3bd-afebcc46f26e"
      },
      "source": [
        "#Calculate the gradient boosting predictions and print a confusion matrix\n",
        "y_pred = boost.predict(X_test)\n",
        "cm = confusion_matrix(y_test, y_pred)\n",
        "plot_confusion_matrix(cm,[0,1],False)"
      ],
      "execution_count": null,
      "outputs": [
        {
          "output_type": "stream",
          "text": [
            "Confusion matrix, without normalization\n"
          ],
          "name": "stdout"
        },
        {
          "output_type": "display_data",
          "data": {
            "image/png": "[encoded data removed]",
            "text/plain": [
              "<Figure size 640x480 with 2 Axes>"
            ]
          },
          "metadata": {
            "tags": []
          }
        }
      ]
    },
    {
      "cell_type": "code",
      "metadata": {
        "id": "hfHOjSe_ene-",
        "outputId": "ee835c58-91a7-4d40-ec1f-6d1344acea51"
      },
      "source": [
        "#Print the classification report\n",
        "classif_report = classification_report(y_test,y_pred)\n",
        "print(classif_report)"
      ],
      "execution_count": null,
      "outputs": [
        {
          "output_type": "stream",
          "text": [
            "              precision    recall  f1-score   support\n",
            "\n",
            "           0       0.85      0.89      0.87      1590\n",
            "           1       0.61      0.53      0.57       520\n",
            "\n",
            "    accuracy                           0.80      2110\n",
            "   macro avg       0.73      0.71      0.72      2110\n",
            "weighted avg       0.79      0.80      0.80      2110\n",
            "\n"
          ],
          "name": "stdout"
        }
      ]
    },
    {
      "cell_type": "markdown",
      "metadata": {
        "id": "QNSuQtbnenfA"
      },
      "source": [
        "# Run a Logistic Regression Model using GridSearchCV to tune the hyperparameters"
      ]
    },
    {
      "cell_type": "code",
      "metadata": {
        "id": "rrmXob1genfB",
        "outputId": "ae6720da-77ab-408b-a825-c6e00d9aabf4"
      },
      "source": [
        "from sklearn.linear_model import LogisticRegression\n",
        "start_time = time.time()\n",
        "\n",
        "#set the parameters to use in the GridSearchCV\n",
        "params = {\n",
        "    'penalty': ['l1','l2'],\n",
        "    'solver': ['liblinear'],\n",
        "    'C': [.1,.5,1,5]\n",
        "}\n",
        "\n",
        "#create the GridSearchCV optimizer for the Logistic Regression Model\n",
        "clf = GridSearchCV(LogisticRegression(), params, cv=5)\n",
        "\n",
        "#fit to the data\n",
        "clf.fit(X_15,y)\n",
        "\n",
        "print(\"runtime:%s seconds\" % (time.time() - start_time))"
      ],
      "execution_count": null,
      "outputs": [
        {
          "output_type": "stream",
          "text": [
            "runtime:2.1787221431732178 seconds\n"
          ],
          "name": "stdout"
        }
      ]
    },
    {
      "cell_type": "code",
      "metadata": {
        "id": "qPi0o2urenfF",
        "outputId": "9c889d0c-c54a-425a-ad37-a7ee2a955581"
      },
      "source": [
        "#print the best parameters and score from the GridSearchCV optimizer\n",
        "print(f'Best Parameters: {clf.best_params_}')\n",
        "print(f'Best Score: {clf.best_score_}')"
      ],
      "execution_count": null,
      "outputs": [
        {
          "output_type": "stream",
          "text": [
            "Best Parameters: {'C': 0.1, 'penalty': 'l2', 'solver': 'liblinear'}\n",
            "Best Score: 0.7987743663313184\n"
          ],
          "name": "stdout"
        }
      ]
    },
    {
      "cell_type": "code",
      "metadata": {
        "id": "d_mGcps4enfH",
        "outputId": "140f4f63-f99c-4859-8a4f-8fa2a2c68f38"
      },
      "source": [
        "start_time = time.time()\n",
        "\n",
        "#Run the Logistic Regression model using the optimal parameters and fit to the data\n",
        "lr = LogisticRegression(penalty = 'l2', solver = 'liblinear', C = .1)\n",
        "lr.fit(X_train,y_train)\n",
        "\n",
        "#Get the cross_validation scores\n",
        "get_cv_score(lr)\n",
        "\n",
        "print(\"runtime:%s seconds\" % (time.time() - start_time))"
      ],
      "execution_count": null,
      "outputs": [
        {
          "output_type": "stream",
          "text": [
            "Cross Validation Scores: [0.81236674 0.80383795 0.78378378 0.79871977 0.79516358]\n",
            "Mean CV Score: 0.7987743663313184\n",
            "runtime:0.3917539119720459 seconds\n"
          ],
          "name": "stdout"
        }
      ]
    },
    {
      "cell_type": "code",
      "metadata": {
        "id": "lxWkz7N-enfO",
        "outputId": "8b1cbbfa-39ee-479a-9045-deb97f808bfd"
      },
      "source": [
        "#Calculate the Logistic Regression predictions and print a confusion matrix\n",
        "y_pred = lr.predict(X_test)\n",
        "cm = confusion_matrix(y_test, y_pred)\n",
        "plot_confusion_matrix(cm,[0,1],False)"
      ],
      "execution_count": null,
      "outputs": [
        {
          "output_type": "stream",
          "text": [
            "Confusion matrix, without normalization\n"
          ],
          "name": "stdout"
        },
        {
          "output_type": "display_data",
          "data": {
            "image/png": "[encoded data removed]",
            "text/plain": [
              "<Figure size 640x480 with 2 Axes>"
            ]
          },
          "metadata": {
            "tags": []
          }
        }
      ]
    },
    {
      "cell_type": "code",
      "metadata": {
        "id": "LinGw-XZenfQ",
        "outputId": "0ddb4852-c3b7-4738-f58d-012a570e6967"
      },
      "source": [
        "#Print the classification report\n",
        "classif_report = classification_report(y_test,y_pred)\n",
        "print(classif_report)"
      ],
      "execution_count": null,
      "outputs": [
        {
          "output_type": "stream",
          "text": [
            "              precision    recall  f1-score   support\n",
            "\n",
            "           0       0.86      0.89      0.87      1590\n",
            "           1       0.61      0.55      0.58       520\n",
            "\n",
            "    accuracy                           0.80      2110\n",
            "   macro avg       0.73      0.72      0.72      2110\n",
            "weighted avg       0.80      0.80      0.80      2110\n",
            "\n"
          ],
          "name": "stdout"
        }
      ]
    },
    {
      "cell_type": "markdown",
      "metadata": {
        "id": "NW07uc2ZenfS"
      },
      "source": [
        "# Apply Principal Component Analysis\n",
        "\n",
        "Store the top two components in a new DataFrame and split the data using Train Test Split"
      ]
    },
    {
      "cell_type": "code",
      "metadata": {
        "id": "Q9ERnizeenfS",
        "outputId": "99241885-9359-4309-9dbd-57636057c0d2"
      },
      "source": [
        "from sklearn.preprocessing import StandardScaler\n",
        "from sklearn.decomposition import PCA\n",
        "\n",
        "#standardize the Features using StandardScaler\n",
        "X_std = StandardScaler().fit_transform(X)\n",
        "\n",
        "#set up pca\n",
        "pca = PCA(n_components = 2)\n",
        "\n",
        "#create principal components\n",
        "principal_components = pca.fit_transform(X_std)\n",
        "\n",
        "#create list of column names for the pca df\n",
        "feat_cols = ['feature'+str(i) for i in range(2)]\n",
        "\n",
        "#add components to a new dataframe\n",
        "X_pca = pd.DataFrame(data = principal_components, columns = feat_cols)\n",
        "\n",
        "X_pca.head()"
      ],
      "execution_count": null,
      "outputs": [
        {
          "output_type": "execute_result",
          "data": {
            "text/html": [
              "<div>\n",
              "<style scoped>\n",
              "    .dataframe tbody tr th:only-of-type {\n",
              "        vertical-align: middle;\n",
              "    }\n",
              "\n",
              "    .dataframe tbody tr th {\n",
              "        vertical-align: top;\n",
              "    }\n",
              "\n",
              "    .dataframe thead th {\n",
              "        text-align: right;\n",
              "    }\n",
              "</style>\n",
              "<table border=\"1\" class=\"dataframe\">\n",
              "  <thead>\n",
              "    <tr style=\"text-align: right;\">\n",
              "      <th></th>\n",
              "      <th>feature0</th>\n",
              "      <th>feature1</th>\n",
              "    </tr>\n",
              "  </thead>\n",
              "  <tbody>\n",
              "    <tr>\n",
              "      <th>0</th>\n",
              "      <td>-0.427370</td>\n",
              "      <td>-3.153937</td>\n",
              "    </tr>\n",
              "    <tr>\n",
              "      <th>1</th>\n",
              "      <td>-0.200847</td>\n",
              "      <td>-0.796904</td>\n",
              "    </tr>\n",
              "    <tr>\n",
              "      <th>2</th>\n",
              "      <td>-0.157537</td>\n",
              "      <td>-2.092463</td>\n",
              "    </tr>\n",
              "    <tr>\n",
              "      <th>3</th>\n",
              "      <td>-0.893278</td>\n",
              "      <td>-0.882629</td>\n",
              "    </tr>\n",
              "    <tr>\n",
              "      <th>4</th>\n",
              "      <td>-0.609394</td>\n",
              "      <td>-3.172785</td>\n",
              "    </tr>\n",
              "  </tbody>\n",
              "</table>\n",
              "</div>"
            ],
            "text/plain": [
              "   feature0  feature1\n",
              "0 -0.427370 -3.153937\n",
              "1 -0.200847 -0.796904\n",
              "2 -0.157537 -2.092463\n",
              "3 -0.893278 -0.882629\n",
              "4 -0.609394 -3.172785"
            ]
          },
          "metadata": {
            "tags": []
          },
          "execution_count": 112
        }
      ]
    },
    {
      "cell_type": "code",
      "metadata": {
        "id": "jdpaPej8enfU"
      },
      "source": [
        "#Split the data into training and testing sets\n",
        "X_train,X_test,y_train,y_test = train_test_split(X_pca,y,test_size=.3)"
      ],
      "execution_count": null,
      "outputs": []
    },
    {
      "cell_type": "markdown",
      "metadata": {
        "id": "LZQxV0hbenfa"
      },
      "source": [
        "# Run a Decision Tree Model using the top two Principal Components as the inputs"
      ]
    },
    {
      "cell_type": "code",
      "metadata": {
        "id": "LogMpqi9enfb",
        "outputId": "07746e18-53d8-43b6-c9ec-739ae71f96a2"
      },
      "source": [
        "start_time = time.time()\n",
        "\n",
        "#set the parameters to use in the GridSearchCV\n",
        "params = {\n",
        "    'max_depth': [2,5,10,20,None],\n",
        "    'splitter': ['best','random'],\n",
        "    'min_samples_split':[2,5,10],\n",
        "    'min_samples_leaf':[1,5,10],\n",
        "    'max_features': [2,None]    \n",
        "}\n",
        "\n",
        "#create the GridSearchCV optimizer for the Decision Tree Classifier\n",
        "clf = GridSearchCV(DecisionTreeClassifier(), params, cv=5)\n",
        "\n",
        "#fit to the data\n",
        "clf.fit(X_pca,y)\n",
        "\n",
        "print(\"runtime:%s seconds\" % (time.time() - start_time))"
      ],
      "execution_count": null,
      "outputs": [
        {
          "output_type": "stream",
          "text": [
            "runtime:10.789298057556152 seconds\n"
          ],
          "name": "stdout"
        }
      ]
    },
    {
      "cell_type": "code",
      "metadata": {
        "id": "8Gxq6_btenfc",
        "outputId": "4a028bcd-ef5b-41aa-b700-2e7d29b7ebdb"
      },
      "source": [
        "#print the best parameters and score from the GridSearchCV optimizer for the Decision Tree Classifier\n",
        "print(f'Best Parameters: {clf.best_params_}')\n",
        "print(f'Best Score: {clf.best_score_}')"
      ],
      "execution_count": null,
      "outputs": [
        {
          "output_type": "stream",
          "text": [
            "Best Parameters: {'max_depth': 10, 'max_features': None, 'min_samples_leaf': 10, 'min_samples_split': 5, 'splitter': 'random'}\n",
            "Best Score: 0.781426741521007\n"
          ],
          "name": "stdout"
        }
      ]
    },
    {
      "cell_type": "code",
      "metadata": {
        "id": "cowb-Fvrenfe",
        "outputId": "93e01f73-a973-414f-c19b-20d7beadd81c"
      },
      "source": [
        "start_time = time.time()\n",
        "\n",
        "#Run the Decision Tree Classifier using the optimal parameters and fit to the data\n",
        "dec_tree = DecisionTreeClassifier(max_depth = 10, max_features = None, min_samples_leaf = 10, min_samples_split = 5, splitter = 'random')\n",
        "dec_tree.fit(X_train,y_train)\n",
        "\n",
        "#Get the cross_validation scores\n",
        "get_cv_score(dec_tree)\n",
        "\n",
        "print(\"runtime:%s seconds\" % (time.time() - start_time))"
      ],
      "execution_count": null,
      "outputs": [
        {
          "output_type": "stream",
          "text": [
            "Cross Validation Scores: [0.7803838  0.79459844 0.7802276  0.7972973  0.79587482]\n",
            "Mean CV Score: 0.7896763894407257\n",
            "runtime:0.053787946701049805 seconds\n"
          ],
          "name": "stdout"
        }
      ]
    },
    {
      "cell_type": "code",
      "metadata": {
        "id": "Jv7BRXe6enfi",
        "outputId": "0abd49db-7894-4e8a-d493-2093dcafc2a8"
      },
      "source": [
        "#Calculate the Decision Tree predictions and print a confusion matrix\n",
        "y_pred = dec_tree.predict(X_test)\n",
        "cm = confusion_matrix(y_test, y_pred)\n",
        "plot_confusion_matrix(cm,[0,1],False)"
      ],
      "execution_count": null,
      "outputs": [
        {
          "output_type": "stream",
          "text": [
            "Confusion matrix, without normalization\n"
          ],
          "name": "stdout"
        },
        {
          "output_type": "display_data",
          "data": {
            "image/png": "[encoded data removed]",
            "text/plain": [
              "<Figure size 640x480 with 2 Axes>"
            ]
          },
          "metadata": {
            "tags": []
          }
        }
      ]
    },
    {
      "cell_type": "code",
      "metadata": {
        "id": "YxLzy6Gqenfk",
        "outputId": "0259a778-6a51-47d7-9498-454fd4d9f60f"
      },
      "source": [
        "#Print the classification report\n",
        "classif_report = classification_report(y_test,y_pred)\n",
        "print(classif_report)"
      ],
      "execution_count": null,
      "outputs": [
        {
          "output_type": "stream",
          "text": [
            "              precision    recall  f1-score   support\n",
            "\n",
            "           0       0.82      0.90      0.85      1566\n",
            "           1       0.59      0.42      0.49       544\n",
            "\n",
            "    accuracy                           0.77      2110\n",
            "   macro avg       0.70      0.66      0.67      2110\n",
            "weighted avg       0.76      0.77      0.76      2110\n",
            "\n"
          ],
          "name": "stdout"
        }
      ]
    },
    {
      "cell_type": "markdown",
      "metadata": {
        "id": "5AeIQLYuenfn"
      },
      "source": [
        "# Run a Random Forest Model using the top two Principal Components as the inputs"
      ]
    },
    {
      "cell_type": "code",
      "metadata": {
        "id": "nbH15vm0enfo",
        "outputId": "c97f01a6-3185-42c6-926b-6bfd65f66db1"
      },
      "source": [
        "start_time = time.time()\n",
        "\n",
        "#set the parameters to use in the GridSearchCV\n",
        "params = {\n",
        "    'n_estimators': [100,500,1000],\n",
        "    'max_depth': [None,5,10,20,100],\n",
        "    'max_features': ['auto','log2',None]\n",
        "}\n",
        "\n",
        "#create the GridSearchCV optimizer for the Random Forest Classifier\n",
        "clf = GridSearchCV(RandomForestClassifier(), params, cv=5)\n",
        "\n",
        "#fit to the data\n",
        "clf.fit(X_pca,y)\n",
        "\n",
        "print(\"runtime:%s seconds\" % (time.time() - start_time))"
      ],
      "execution_count": null,
      "outputs": [
        {
          "output_type": "stream",
          "text": [
            "runtime:28686.113961935043 seconds\n"
          ],
          "name": "stdout"
        }
      ]
    },
    {
      "cell_type": "code",
      "metadata": {
        "id": "76vxlh6-enfs",
        "outputId": "39ba0805-232c-4231-d57a-ade9fcafcb50"
      },
      "source": [
        "#print the best parameters and score from the GridSearchCV optimizer\n",
        "print(f'Best Parameters: {clf.best_params_}')\n",
        "print(f'Best Score: {clf.best_score_}')"
      ],
      "execution_count": null,
      "outputs": [
        {
          "output_type": "stream",
          "text": [
            "Best Parameters: {'max_depth': 5, 'max_features': None, 'n_estimators': 100}\n",
            "Best Score: 0.797353306622749\n"
          ],
          "name": "stdout"
        }
      ]
    },
    {
      "cell_type": "code",
      "metadata": {
        "id": "eI5du7Pqenfu",
        "outputId": "347f725c-db74-4d46-e356-a36e765905ef"
      },
      "source": [
        "start_time = time.time()\n",
        "\n",
        "#Run the Random Forest Classifier using the optimal parameters and fit to the data\n",
        "rf = RandomForestClassifier(n_estimators = 100, max_depth = 5, max_features = None)\n",
        "rf.fit(X_train,y_train)\n",
        "\n",
        "#Get the cross_validation scores\n",
        "get_cv_score(rf)\n",
        "\n",
        "print(\"runtime:%s seconds\" % (time.time() - start_time))"
      ],
      "execution_count": null,
      "outputs": [
        {
          "output_type": "stream",
          "text": [
            "Cross Validation Scores: [0.80881308 0.7960199  0.77809388 0.80156472 0.79231863]\n",
            "Mean CV Score: 0.7953620436731199\n",
            "runtime:4.790100336074829 seconds\n"
          ],
          "name": "stdout"
        }
      ]
    },
    {
      "cell_type": "code",
      "metadata": {
        "id": "uMKsPFbjenfy",
        "outputId": "2585fb48-8a15-4a29-d698-b660fc7db0c9"
      },
      "source": [
        "#Calculate the Random Forest predictions and print a confusion matrix\n",
        "y_pred = rf.predict(X_test)\n",
        "cm = confusion_matrix(y_test, y_pred)\n",
        "plot_confusion_matrix(cm,[0,1],False)"
      ],
      "execution_count": null,
      "outputs": [
        {
          "output_type": "stream",
          "text": [
            "Confusion matrix, without normalization\n"
          ],
          "name": "stdout"
        },
        {
          "output_type": "display_data",
          "data": {
            "image/png": "[encoded data removed]",
            "text/plain": [
              "<Figure size 640x480 with 2 Axes>"
            ]
          },
          "metadata": {
            "tags": []
          }
        }
      ]
    },
    {
      "cell_type": "code",
      "metadata": {
        "id": "iWljLmjaenf0",
        "outputId": "19551cee-f705-4780-9b02-984d2c145928"
      },
      "source": [
        "#Print the classification report\n",
        "classif_report = classification_report(y_test,y_pred)\n",
        "print(classif_report)"
      ],
      "execution_count": null,
      "outputs": [
        {
          "output_type": "stream",
          "text": [
            "              precision    recall  f1-score   support\n",
            "\n",
            "           0       0.83      0.92      0.87      1560\n",
            "           1       0.67      0.47      0.55       550\n",
            "\n",
            "    accuracy                           0.80      2110\n",
            "   macro avg       0.75      0.70      0.71      2110\n",
            "weighted avg       0.79      0.80      0.79      2110\n",
            "\n"
          ],
          "name": "stdout"
        }
      ]
    },
    {
      "cell_type": "markdown",
      "metadata": {
        "id": "-IvvmKaWenf1"
      },
      "source": [
        "# Run a K-Nearest Neighbors Model using the top two Principal Components as the inputs"
      ]
    },
    {
      "cell_type": "code",
      "metadata": {
        "id": "g1XFYJ05enf2",
        "outputId": "a0672c4d-4d86-4d37-88e4-0646ac541a8b"
      },
      "source": [
        "start_time = time.time()\n",
        "\n",
        "#set the parameters to use in the GridSearchCV\n",
        "params = {\n",
        "    'n_neighbors': np.arange(13,35,2),\n",
        "    'p': [1,2]\n",
        "}\n",
        "\n",
        "#create the GridSearchCV optimizer for the K Nearest Neighbors Classifier\n",
        "clf = GridSearchCV(KNeighborsClassifier(), params, cv=5)\n",
        "\n",
        "#fit to the data\n",
        "clf.fit(X_pca,y)\n",
        "\n",
        "print(\"runtime:%s seconds\" % (time.time() - start_time))"
      ],
      "execution_count": null,
      "outputs": [
        {
          "output_type": "stream",
          "text": [
            "runtime:6.481943130493164 seconds\n"
          ],
          "name": "stdout"
        }
      ]
    },
    {
      "cell_type": "code",
      "metadata": {
        "id": "FY6aoJ2Cenf4",
        "outputId": "bbdf1471-37e5-42ea-c733-17e640091e5b"
      },
      "source": [
        "#print the best parameters and score from the GridSearchCV optimizer\n",
        "print(f'Best Parameters: {clf.best_params_}')\n",
        "print(f'Best Score: {clf.best_score_}')"
      ],
      "execution_count": null,
      "outputs": [
        {
          "output_type": "stream",
          "text": [
            "Best Parameters: {'n_neighbors': 29, 'p': 2}\n",
            "Best Score: 0.7750262101401143\n"
          ],
          "name": "stdout"
        }
      ]
    },
    {
      "cell_type": "code",
      "metadata": {
        "id": "N5eVvZggenf7",
        "outputId": "b61b70f7-0a4d-4c7f-fd53-c57b6eae9169"
      },
      "source": [
        "start_time = time.time()\n",
        "\n",
        "#Run the K Nearest Neighbors classifier using the optimal parameters and fit to the data\n",
        "knn = KNeighborsClassifier(n_neighbors = 29, p = 2)\n",
        "knn.fit(X_train,y_train)\n",
        "\n",
        "#Get the cross_validation scores\n",
        "get_cv_score(knn)\n",
        "\n",
        "print(\"runtime:%s seconds\" % (time.time() - start_time))"
      ],
      "execution_count": null,
      "outputs": [
        {
          "output_type": "stream",
          "text": [
            "Cross Validation Scores: [0.77896233 0.78180526 0.77951636 0.78520626 0.78307255]\n",
            "Mean CV Score: 0.7817125508405949\n",
            "runtime:0.5996699333190918 seconds\n"
          ],
          "name": "stdout"
        }
      ]
    },
    {
      "cell_type": "code",
      "metadata": {
        "id": "-pbRacR7enf9",
        "outputId": "830fb415-1989-4170-a470-c19b252e2e44"
      },
      "source": [
        "#Calculate the K Nearest Neighbors predictions and print a confusion matrix\n",
        "y_pred = knn.predict(X_test)\n",
        "cm = confusion_matrix(y_test, y_pred)\n",
        "plot_confusion_matrix(cm,[0,1],False)"
      ],
      "execution_count": null,
      "outputs": [
        {
          "output_type": "stream",
          "text": [
            "Confusion matrix, without normalization\n"
          ],
          "name": "stdout"
        },
        {
          "output_type": "display_data",
          "data": {
            "image/png": "[encoded data removed]",
            "text/plain": [
              "<Figure size 640x480 with 2 Axes>"
            ]
          },
          "metadata": {
            "tags": []
          }
        }
      ]
    },
    {
      "cell_type": "code",
      "metadata": {
        "id": "2lz2G4wyengA",
        "outputId": "56d3daa9-8b91-406b-aa81-3cfd901b1a23"
      },
      "source": [
        "#Print the classification report\n",
        "classif_report = classification_report(y_test,y_pred)\n",
        "print(classif_report)"
      ],
      "execution_count": null,
      "outputs": [
        {
          "output_type": "stream",
          "text": [
            "              precision    recall  f1-score   support\n",
            "\n",
            "           0       0.81      0.88      0.84      1551\n",
            "           1       0.57      0.45      0.50       559\n",
            "\n",
            "    accuracy                           0.76      2110\n",
            "   macro avg       0.69      0.66      0.67      2110\n",
            "weighted avg       0.75      0.76      0.75      2110\n",
            "\n"
          ],
          "name": "stdout"
        }
      ]
    },
    {
      "cell_type": "markdown",
      "metadata": {
        "id": "DNM3s5vCengC"
      },
      "source": [
        "# Run a Gradient Boosting Model using the top two Principal Components as the inputs"
      ]
    },
    {
      "cell_type": "code",
      "metadata": {
        "id": "AGhqlCNdengC",
        "outputId": "ed268e0d-aca8-4dbc-f29c-42d425b2364e"
      },
      "source": [
        "start_time = time.time()\n",
        "\n",
        "#set the parameters to use in the GridSearchCV\n",
        "params = {\n",
        "    'learning_rate': [.05,.1,.5],\n",
        "    'n_estimators': [50,100,500],\n",
        "    'max_depth': [None,3,10],\n",
        "    'max_features': [None,'auto']\n",
        "}\n",
        "\n",
        "#create the GridSearchCV optimizer for the Gradient Boosting Classifier\n",
        "clf = GridSearchCV(GradientBoostingClassifier(), params, cv=5)\n",
        "\n",
        "#fit to the data\n",
        "clf.fit(X_pca,y)\n",
        "\n",
        "print(\"runtime:%s seconds\" % (time.time() - start_time))"
      ],
      "execution_count": null,
      "outputs": [
        {
          "output_type": "stream",
          "text": [
            "runtime:2432.148115158081 seconds\n"
          ],
          "name": "stdout"
        }
      ]
    },
    {
      "cell_type": "code",
      "metadata": {
        "id": "OpFl-a_GengE",
        "outputId": "99f12771-e9d1-4d85-bbfe-6d54496ba9a6"
      },
      "source": [
        "#print the best parameters and score from the GridSearchCV optimizer\n",
        "print(f'Best Parameters: {clf.best_params_}')\n",
        "print(f'Best Score: {clf.best_score_}')"
      ],
      "execution_count": null,
      "outputs": [
        {
          "output_type": "stream",
          "text": [
            "Best Parameters: {'learning_rate': 0.05, 'max_depth': 3, 'max_features': None, 'n_estimators': 50}\n",
            "Best Score: 0.7835590387829194\n"
          ],
          "name": "stdout"
        }
      ]
    },
    {
      "cell_type": "code",
      "metadata": {
        "id": "tPNFHA42engG",
        "outputId": "3483ffad-1aaa-4e57-fbe6-35843243780d"
      },
      "source": [
        "start_time = time.time()\n",
        "\n",
        "#Run the Gradient Boosting Classifier using the optimal parameters and fit to the data\n",
        "boost = GradientBoostingClassifier(n_estimators = 50, learning_rate = .05, max_depth = 3, max_features = None)\n",
        "boost.fit(X_train,y_train)\n",
        "\n",
        "#Get the cross_validation scores\n",
        "get_cv_score(boost)\n",
        "\n",
        "print(\"runtime:%s seconds\" % (time.time() - start_time))"
      ],
      "execution_count": null,
      "outputs": [
        {
          "output_type": "stream",
          "text": [
            "Cross Validation Scores: [0.80454869 0.7981521  0.77951636 0.80440967 0.79871977]\n",
            "Mean CV Score: 0.797069317100739\n",
            "runtime:2.0715010166168213 seconds\n"
          ],
          "name": "stdout"
        }
      ]
    },
    {
      "cell_type": "code",
      "metadata": {
        "id": "2a2TM8_fengJ",
        "outputId": "ab90adb2-14b5-4940-c3cc-80e522829e84"
      },
      "source": [
        "#Calculate Gradient Boosting predictions and print a confusion matrix\n",
        "y_pred = boost.predict(X_test)\n",
        "cm = confusion_matrix(y_test, y_pred)\n",
        "plot_confusion_matrix(cm,[0,1],False)"
      ],
      "execution_count": null,
      "outputs": [
        {
          "output_type": "stream",
          "text": [
            "Confusion matrix, without normalization\n"
          ],
          "name": "stdout"
        },
        {
          "output_type": "display_data",
          "data": {
            "image/png": "[encoded data removed]",
            "text/plain": [
              "<Figure size 640x480 with 2 Axes>"
            ]
          },
          "metadata": {
            "tags": []
          }
        }
      ]
    },
    {
      "cell_type": "code",
      "metadata": {
        "id": "DHyp955zengK",
        "outputId": "27a16ebf-4ac3-4d0a-e265-ae8d121d6789"
      },
      "source": [
        "#Print the classification report\n",
        "classif_report = classification_report(y_test,y_pred)\n",
        "print(classif_report)"
      ],
      "execution_count": null,
      "outputs": [
        {
          "output_type": "stream",
          "text": [
            "              precision    recall  f1-score   support\n",
            "\n",
            "           0       0.81      0.90      0.86      1566\n",
            "           1       0.59      0.41      0.48       544\n",
            "\n",
            "    accuracy                           0.77      2110\n",
            "   macro avg       0.70      0.66      0.67      2110\n",
            "weighted avg       0.76      0.77      0.76      2110\n",
            "\n"
          ],
          "name": "stdout"
        }
      ]
    },
    {
      "cell_type": "markdown",
      "metadata": {
        "id": "vmZMXQwjengM"
      },
      "source": [
        "# Logistic Regression"
      ]
    },
    {
      "cell_type": "code",
      "metadata": {
        "id": "2mxhwGAHengM",
        "outputId": "8ddd9812-8907-46fb-8057-2c596dba5cdb"
      },
      "source": [
        "start_time = time.time()\n",
        "\n",
        "#set the parameters to use in the GridSearchCV\n",
        "params = {\n",
        "    'penalty': ['l1','l2'],\n",
        "    'solver': ['liblinear'],\n",
        "    'C': [.01,.1,.5,1]\n",
        "}\n",
        "\n",
        "#create the GridSearchCV optimizer for the Logistic Regression model\n",
        "clf = GridSearchCV(LogisticRegression(), params, cv=5)\n",
        "\n",
        "#fit to the data\n",
        "clf.fit(X_pca,y)\n",
        "\n",
        "print(\"runtime:%s seconds\" % (time.time() - start_time))"
      ],
      "execution_count": null,
      "outputs": [
        {
          "output_type": "stream",
          "text": [
            "runtime:0.7427570819854736 seconds\n"
          ],
          "name": "stdout"
        }
      ]
    },
    {
      "cell_type": "code",
      "metadata": {
        "id": "1QcyjB9WengO",
        "outputId": "6a5c8038-16e8-46a5-d1fc-437084370c80"
      },
      "source": [
        "#print the best parameters and score from the GridSearchCV optimizer\n",
        "print(f'Best Parameters: {clf.best_params_}')\n",
        "print(f'Best Score: {clf.best_score_}')"
      ],
      "execution_count": null,
      "outputs": [
        {
          "output_type": "stream",
          "text": [
            "Best Parameters: {'C': 0.01, 'penalty': 'l2', 'solver': 'liblinear'}\n",
            "Best Score: 0.7703343675849567\n"
          ],
          "name": "stdout"
        }
      ]
    },
    {
      "cell_type": "code",
      "metadata": {
        "id": "N9h__Bu9engQ",
        "outputId": "d85da52c-6162-431d-9082-86fc4f493d5c"
      },
      "source": [
        "start_time = time.time()\n",
        "\n",
        "#Run the Logistic Regression model using the optimal parameters and fit to the data\n",
        "lr = LogisticRegression(penalty = 'l2', solver = 'liblinear', C = 0.01)\n",
        "lr.fit(X_train,y_train)\n",
        "\n",
        "#Get the cross_validation scores\n",
        "get_cv_score(lr)\n",
        "\n",
        "print(\"runtime:%s seconds\" % (time.time() - start_time))"
      ],
      "execution_count": null,
      "outputs": [
        {
          "output_type": "stream",
          "text": [
            "Cross Validation Scores: [0.80597015 0.7960199  0.78307255 0.80725462 0.79445235]\n",
            "Mean CV Score: 0.7973539132219415\n",
            "runtime:0.22446012496948242 seconds\n"
          ],
          "name": "stdout"
        }
      ]
    },
    {
      "cell_type": "code",
      "metadata": {
        "id": "2_6PNE2fengR",
        "outputId": "e76ac822-fff2-433c-8945-5d39e6d05cac"
      },
      "source": [
        "#Calculate the Logistic Regression predictions and print a confusion matrix\n",
        "y_pred = lr.predict(X_test)\n",
        "cm = confusion_matrix(y_test, y_pred)\n",
        "plot_confusion_matrix(cm,[0,1],False)"
      ],
      "execution_count": null,
      "outputs": [
        {
          "output_type": "stream",
          "text": [
            "Confusion matrix, without normalization\n"
          ],
          "name": "stdout"
        },
        {
          "output_type": "display_data",
          "data": {
            "image/png": "[encoded data removed]",
            "text/plain": [
              "<Figure size 640x480 with 2 Axes>"
            ]
          },
          "metadata": {
            "tags": []
          }
        }
      ]
    },
    {
      "cell_type": "code",
      "metadata": {
        "id": "gdm_TiDiengT",
        "outputId": "7c38e564-7a04-434a-cb76-1a8d60c307d6"
      },
      "source": [
        "#Print the classification report\n",
        "classif_report = classification_report(y_test,y_pred)\n",
        "print(classif_report)"
      ],
      "execution_count": null,
      "outputs": [
        {
          "output_type": "stream",
          "text": [
            "              precision    recall  f1-score   support\n",
            "\n",
            "           0       0.82      0.86      0.84      1566\n",
            "           1       0.54      0.45      0.49       544\n",
            "\n",
            "    accuracy                           0.76      2110\n",
            "   macro avg       0.68      0.66      0.67      2110\n",
            "weighted avg       0.75      0.76      0.75      2110\n",
            "\n"
          ],
          "name": "stdout"
        }
      ]
    },
    {
      "cell_type": "markdown",
      "metadata": {
        "id": "kkRIV7ZWengW"
      },
      "source": [
        "# SVM"
      ]
    },
    {
      "cell_type": "code",
      "metadata": {
        "id": "aAj-i3HIengW"
      },
      "source": [
        "from sklearn.svm import SVC"
      ],
      "execution_count": null,
      "outputs": []
    },
    {
      "cell_type": "code",
      "metadata": {
        "id": "9QvB4JBtengY",
        "outputId": "872732fc-46db-4975-97f9-ca0641f69bf7"
      },
      "source": [
        "start_time = time.time()\n",
        "\n",
        "#set the parameters to use in the GridSearchCV\n",
        "params = {\n",
        "    'kernel' : ['rbf', 'poly'],\n",
        "    'C': [.1,.5,1],\n",
        "    'gamma': [.1,.5,1]\n",
        "}\n",
        "\n",
        "#create the GridSearchCV optimizer for the SVM model\n",
        "clf = GridSearchCV(SVC(), params, cv=5)\n",
        "\n",
        "#fit to the data\n",
        "clf.fit(X_pca,y)\n",
        "\n",
        "print(\"runtime:%s seconds\" % (time.time() - start_time))"
      ],
      "execution_count": null,
      "outputs": [
        {
          "output_type": "stream",
          "text": [
            "runtime:1400.4596726894379 seconds\n"
          ],
          "name": "stdout"
        }
      ]
    },
    {
      "cell_type": "code",
      "metadata": {
        "id": "9Kvrp8oKengd",
        "outputId": "790da1a7-4880-4d4e-f7fd-b2ff2a5852b4"
      },
      "source": [
        "#print the best parameters and score from the GridSearchCV optimizer\n",
        "print(f'Best Parameters: {clf.best_params_}')\n",
        "print(f'Best Score: {clf.best_score_}')"
      ],
      "execution_count": null,
      "outputs": [
        {
          "output_type": "stream",
          "text": [
            "Best Parameters: {'C': 0.1, 'gamma': 0.1, 'kernel': 'rbf'}\n",
            "Best Score: 0.7797197713929843\n"
          ],
          "name": "stdout"
        }
      ]
    },
    {
      "cell_type": "code",
      "metadata": {
        "id": "FozKLSArengg",
        "outputId": "5ec23383-dc4c-4820-ff1f-98e143f8af26"
      },
      "source": [
        "start_time = time.time()\n",
        "\n",
        "#Run the SVC model using the optimal parameters and fit to the data\n",
        "svc = SVC(kernel = 'rbf', gamma = 0.1, C = 0.1)\n",
        "svc.fit(X_train,y_train)\n",
        "\n",
        "#Get the cross_validation scores\n",
        "get_cv_score(svc)\n",
        "\n",
        "print(\"runtime:%s seconds\" % (time.time() - start_time))"
      ],
      "execution_count": null,
      "outputs": [
        {
          "output_type": "stream",
          "text": [
            "Cross Validation Scores: [0.74769012 0.74911158 0.75320057 0.75462304 0.76173542]\n",
            "Mean CV Score: 0.7532721476947714\n",
            "runtime:6.913969039916992 seconds\n"
          ],
          "name": "stdout"
        }
      ]
    },
    {
      "cell_type": "code",
      "metadata": {
        "id": "YtbHvrqZengi",
        "outputId": "f80b098d-9011-4662-f9fa-954d78ebd8e0"
      },
      "source": [
        "#Calculate the Logistic Regression predictions and print a confusion matrix\n",
        "y_pred = svc.predict(X_test)\n",
        "cm = confusion_matrix(y_test, y_pred)\n",
        "plot_confusion_matrix(cm,[0,1],False)"
      ],
      "execution_count": null,
      "outputs": [
        {
          "output_type": "stream",
          "text": [
            "Confusion matrix, without normalization\n"
          ],
          "name": "stdout"
        },
        {
          "output_type": "display_data",
          "data": {
            "image/png": "[encoded data removed]",
            "text/plain": [
              "<Figure size 640x480 with 2 Axes>"
            ]
          },
          "metadata": {
            "tags": []
          }
        }
      ]
    },
    {
      "cell_type": "code",
      "metadata": {
        "id": "FsDHNudgengk",
        "outputId": "1bdcad0c-9a7d-45b8-ba77-5e64f4d2b643"
      },
      "source": [
        "#Print the classification report\n",
        "classif_report = classification_report(y_test,y_pred)\n",
        "print(classif_report)"
      ],
      "execution_count": null,
      "outputs": [
        {
          "output_type": "stream",
          "text": [
            "              precision    recall  f1-score   support\n",
            "\n",
            "           0       0.81      0.90      0.85      1551\n",
            "           1       0.60      0.43      0.50       559\n",
            "\n",
            "    accuracy                           0.77      2110\n",
            "   macro avg       0.71      0.66      0.68      2110\n",
            "weighted avg       0.76      0.77      0.76      2110\n",
            "\n"
          ],
          "name": "stdout"
        }
      ]
    },
    {
      "cell_type": "markdown",
      "metadata": {
        "id": "fFXLbpUHengm"
      },
      "source": [
        "# Analysis\n",
        "\n",
        "In the above notebook, I implemented five classification models using the 15 \"Best\" Features as inputs, and six classification models using the top 2 Principal Components as inputs. Many of the models performed similarly in terms of predictive power, with an accuracy close to 80%, and an avg f1-score close to 0.70. The models varied significantly in runtime, however, showing that some would be more practical to apply in production. \n",
        "\n",
        "The strongest candidate to apply in the workplace is the Logistic Regression model using the 15 Best Features. This model's accuracy score of 79.88% was tied with Gradient Boosting for the highest of all models. Logistic Regression is also tied with Gradient Boosting for the highest weighted average f1-score: 0.80. The main difference between these two models is the runtime. The Logistic Regression model took just 2.2 seconds to run the GridSearchCV to tune the hyperparameters, and less than half a second to fit to the training set once the optimal hyperparameters were entered. Gradient Boosting on the other hand took nearly two hours to run the GridSearchCV, and 5 seconds to fit to the training set. Clearly, Logistic Regression is the model of choice in this case.\n",
        "\n",
        "Interestingly, most models performed slightly worse in terms of predictive power using the top 2 Principal Components. While there was a slight drop in runtime due to this reduction in dimensionality, the drop in runtime was not great enough to make up for the poorer predictive performance. This dataset had some 7,000 records. In a dataset with significantly more records, reducing the dimensionality would be more worthwhile, even if it comes with a slight drop in predictive power, so I would be more likely to use the Principal Components rather than the 15 Best Features.\n",
        "\n",
        "One interesting exercise would be to run the models again using the top *three* Principal Components to see if that brings about any significant increase in the predictive power."
      ]
    },
    {
      "cell_type": "code",
      "metadata": {
        "id": "0uOqL6F3engm"
      },
      "source": [
        ""
      ],
      "execution_count": null,
      "outputs": []
    }
  ]
}